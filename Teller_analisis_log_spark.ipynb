{
 "cells": [
  {
   "cell_type": "markdown",
   "metadata": {},
   "source": [
    "## Analisis de logs con spark\n"
   ]
  },
  {
   "cell_type": "markdown",
   "metadata": {},
   "source": [
    "### Seminario de base de datos 2020-1"
   ]
  },
  {
   "cell_type": "markdown",
   "metadata": {},
   "source": [
    "#### Estudiante:Carlos Alberto Benavidez Vega\n",
    "#### Estudiante:Juan Camilo Roja Ricaurte"
   ]
  },
  {
   "cell_type": "markdown",
   "metadata": {},
   "source": [
    "### 1. Importar librerias"
   ]
  },
  {
   "cell_type": "code",
   "execution_count": 11,
   "metadata": {},
   "outputs": [
    {
     "name": "stdout",
     "output_type": "stream",
     "text": [
      "Requirement already satisfied: pyspark in c:\\users\\asus\\anaconda3\\lib\\site-packages (3.0.1)\n",
      "Requirement already satisfied: py4j==0.10.9 in c:\\users\\asus\\anaconda3\\lib\\site-packages (from pyspark) (0.10.9)\n"
     ]
    }
   ],
   "source": [
    "!pip install pyspark"
   ]
  },
  {
   "cell_type": "code",
   "execution_count": 12,
   "metadata": {},
   "outputs": [
    {
     "name": "stdout",
     "output_type": "stream",
     "text": [
      "Requirement already satisfied: findspark in c:\\users\\asus\\anaconda3\\lib\\site-packages (1.4.2)\n"
     ]
    }
   ],
   "source": [
    "!pip install findspark"
   ]
  },
  {
   "cell_type": "code",
   "execution_count": 8,
   "metadata": {},
   "outputs": [
    {
     "name": "stdout",
     "output_type": "stream",
     "text": [
      "Requirement already satisfied: pyspark in c:\\users\\asus\\anaconda3\\lib\\site-packages (3.0.1)\n",
      "Requirement already satisfied: py4j==0.10.9 in c:\\users\\asus\\anaconda3\\lib\\site-packages (from pyspark) (0.10.9)\n",
      "Note: you may need to restart the kernel to use updated packages.\n"
     ]
    }
   ],
   "source": [
    "pip install pyspark"
   ]
  },
  {
   "cell_type": "code",
   "execution_count": 2,
   "metadata": {},
   "outputs": [],
   "source": [
    "import findspark\n",
    "findspark.init('C:\\BigData\\Spark')"
   ]
  },
  {
   "cell_type": "code",
   "execution_count": 3,
   "metadata": {},
   "outputs": [],
   "source": [
    "import findspark\n",
    "findspark.init()\n",
    "findspark.find()\n",
    "import pyspark"
   ]
  },
  {
   "cell_type": "code",
   "execution_count": 6,
   "metadata": {},
   "outputs": [],
   "source": [
    "from pyspark import SparkContext, SparkConf\n",
    "from pyspark.sql import SparkSession\n",
    "from pyspark.sql import SQLContext\n",
    "import re\n",
    "conf = SparkConf().setAppName(\"SparkLogAnalysis\").setMaster(\"local[*]\")\n",
    "sc = SparkContext.getOrCreate(conf)\n",
    "spark = SparkSession(sc)\n"
   ]
  },
  {
   "cell_type": "markdown",
   "metadata": {},
   "source": [
    "### 2.Cargar el archivo con spark"
   ]
  },
  {
   "cell_type": "code",
   "execution_count": 7,
   "metadata": {},
   "outputs": [],
   "source": [
    "logs_rdd=sc.textFile('C:\\BigData/auth.log') #File\n",
    "rdd=logs_rdd#File to RDD"
   ]
  },
  {
   "cell_type": "markdown",
   "metadata": {},
   "source": [
    "### Número de líneas que hay en el archivo"
   ]
  },
  {
   "cell_type": "code",
   "execution_count": 8,
   "metadata": {},
   "outputs": [
    {
     "name": "stdout",
     "output_type": "stream",
     "text": [
      "Number of line is :  102164\n"
     ]
    }
   ],
   "source": [
    "print(\"Number of line is : \",rdd.count()) "
   ]
  },
  {
   "cell_type": "markdown",
   "metadata": {},
   "source": [
    "### Visualizar algúnos registros"
   ]
  },
  {
   "cell_type": "code",
   "execution_count": 9,
   "metadata": {},
   "outputs": [
    {
     "data": {
      "text/plain": [
       "['Mar 16 08:12:04 app-1 login[4659]: pam_unix(login:session): session opened for user user3 by LOGIN(uid=0)',\n",
       " 'Mar 16 08:12:09 app-1 sudo:     user3 : TTY=tty1 ; PWD=/home/user3 ; USER=root ; COMMAND=/bin/su',\n",
       " 'Mar 16 08:12:09 app-1 sudo: pam_unix(sudo:session): session opened for user root by user3(uid=0)',\n",
       " 'Mar 16 08:12:09 app-1 sudo: pam_unix(sudo:session): session closed for user root',\n",
       " 'Mar 16 08:12:09 app-1 su[4679]: Successful su for root by root',\n",
       " 'Mar 16 08:12:09 app-1 su[4679]: + tty1 root:root',\n",
       " 'Mar 16 08:12:09 app-1 su[4679]: pam_unix(su:session): session opened for user root by user3(uid=0)',\n",
       " 'Mar 16 08:12:13 app-1 groupadd[4691]: new group: name=user4, GID=1001',\n",
       " 'Mar 16 08:12:13 app-1 useradd[4692]: new user: name=user4, UID=1001, GID=1001, home=/home/user4, shell=/bin/bash',\n",
       " 'Mar 16 08:12:17 app-1 passwd[4695]: pam_unix(passwd:chauthtok): password changed for user4']"
      ]
     },
     "execution_count": 9,
     "metadata": {},
     "output_type": "execute_result"
    }
   ],
   "source": [
    "rdd.take(10)"
   ]
  },
  {
   "cell_type": "markdown",
   "metadata": {},
   "source": [
    "### Cuántos inicios de sesión exitosos?"
   ]
  },
  {
   "cell_type": "code",
   "execution_count": 10,
   "metadata": {},
   "outputs": [
    {
     "name": "stdout",
     "output_type": "stream",
     "text": [
      "Succesfull start :  15451\n"
     ]
    }
   ],
   "source": [
    "succesfull_start=rdd.filter(lambda line: \"session opened for user\" in line)\n",
    "print(\"Succesfull start : \",succesfull_start.count())"
   ]
  },
  {
   "cell_type": "code",
   "execution_count": 11,
   "metadata": {},
   "outputs": [
    {
     "data": {
      "text/plain": [
       "['Mar 16 08:12:04 app-1 login[4659]: pam_unix(login:session): session opened for user user3 by LOGIN(uid=0)',\n",
       " 'Mar 16 08:12:09 app-1 sudo: pam_unix(sudo:session): session opened for user root by user3(uid=0)',\n",
       " 'Mar 16 08:12:09 app-1 su[4679]: pam_unix(su:session): session opened for user root by user3(uid=0)',\n",
       " 'Mar 16 08:17:01 app-1 CRON[4716]: pam_unix(cron:session): session opened for user root by (uid=0)',\n",
       " 'Mar 16 08:26:06 app-1 sshd[4896]: pam_unix(sshd:session): session opened for user user3 by (uid=0)',\n",
       " 'Mar 16 08:27:37 app-1 sudo: pam_unix(sudo:session): session opened for user root by user3(uid=0)',\n",
       " 'Mar 16 08:27:37 app-1 su[4913]: pam_unix(su:session): session opened for user root by user3(uid=0)',\n",
       " 'Mar 16 09:17:01 app-1 CRON[5085]: pam_unix(cron:session): session opened for user root by (uid=0)',\n",
       " 'Mar 16 10:14:02 app-1 sshd[5144]: pam_unix(sshd:session): session opened for user user3 by (uid=0)',\n",
       " 'Mar 16 10:14:10 app-1 sudo: pam_unix(sudo:session): session opened for user root by user3(uid=0)']"
      ]
     },
     "execution_count": 11,
     "metadata": {},
     "output_type": "execute_result"
    }
   ],
   "source": [
    "succesfull_start.take(10)"
   ]
  },
  {
   "cell_type": "markdown",
   "metadata": {},
   "source": [
    "### Qué usuarios acceden correctamente?"
   ]
  },
  {
   "cell_type": "code",
   "execution_count": 12,
   "metadata": {},
   "outputs": [],
   "source": [
    "user_ok=succesfull_start.map(lambda x: (x.split(\" \")[10], x))"
   ]
  },
  {
   "cell_type": "code",
   "execution_count": 14,
   "metadata": {},
   "outputs": [
    {
     "data": {
      "text/plain": [
       "[('root',\n",
       "  'Mar 16 08:12:09 app-1 sudo: pam_unix(sudo:session): session opened for user root by user3(uid=0)'),\n",
       " ('user1',\n",
       "  'Mar 18 10:00:10 app-1 sshd[4766]: pam_unix(sshd:session): session opened for user user1 by (uid=0)'),\n",
       " ('user2',\n",
       "  'Mar 18 11:39:50 app-1 sshd[10179]: pam_unix(sshd:session): session opened for user user2 by (uid=0)'),\n",
       " ('www-data',\n",
       "  'Mar 18 15:12:12 app-1 su[13398]: pam_unix(su:session): session opened for user www-data by user3(uid=0)'),\n",
       " ('nobody',\n",
       "  'Mar 24 06:25:04 app-1 su[8032]: pam_unix(su:session): session opened for user nobody by (uid=0)')]"
      ]
     },
     "execution_count": 14,
     "metadata": {},
     "output_type": "execute_result"
    }
   ],
   "source": [
    "user_list = user_ok.reduceByKey(lambda x,y: (x))\n",
    "user_list.take(5)"
   ]
  },
  {
   "cell_type": "code",
   "execution_count": 15,
   "metadata": {},
   "outputs": [
    {
     "name": "stdout",
     "output_type": "stream",
     "text": [
      "Users Access succesfull: 9\n"
     ]
    }
   ],
   "source": [
    "print (\"Users Access succesfull:\",user_list.count())"
   ]
  },
  {
   "cell_type": "code",
   "execution_count": 16,
   "metadata": {},
   "outputs": [
    {
     "data": {
      "text/plain": [
       "[('root',\n",
       "  'Mar 16 08:12:09 app-1 sudo: pam_unix(sudo:session): session opened for user root by user3(uid=0)'),\n",
       " ('user1',\n",
       "  'Mar 18 10:00:10 app-1 sshd[4766]: pam_unix(sshd:session): session opened for user user1 by (uid=0)'),\n",
       " ('user2',\n",
       "  'Mar 18 11:39:50 app-1 sshd[10179]: pam_unix(sshd:session): session opened for user user2 by (uid=0)'),\n",
       " ('www-data',\n",
       "  'Mar 18 15:12:12 app-1 su[13398]: pam_unix(su:session): session opened for user www-data by user3(uid=0)'),\n",
       " ('nobody',\n",
       "  'Mar 24 06:25:04 app-1 su[8032]: pam_unix(su:session): session opened for user nobody by (uid=0)'),\n",
       " ('dhg',\n",
       "  'Apr 19 22:46:10 app-1 sshd[2072]: pam_unix(sshd:session): session opened for user dhg by (uid=0)'),\n",
       " ('fido',\n",
       "  'Apr 25 12:21:39 app-1 sshd[10828]: pam_unix(sshd:session): session opened for user fido by (uid=0)'),\n",
       " ('user3',\n",
       "  'Mar 16 08:12:04 app-1 login[4659]: pam_unix(login:session): session opened for user user3 by LOGIN(uid=0)'),\n",
       " ('user',\n",
       "  'Apr  1 00:01:01 app-1 CRON[2269]: pam_unix(cron:session): session opened for user root by (uid=0)')]"
      ]
     },
     "execution_count": 16,
     "metadata": {},
     "output_type": "execute_result"
    }
   ],
   "source": [
    "user_list.collect()"
   ]
  },
  {
   "cell_type": "markdown",
   "metadata": {},
   "source": [
    "### Conexiones fallidas como root?"
   ]
  },
  {
   "cell_type": "code",
   "execution_count": 17,
   "metadata": {},
   "outputs": [
    {
     "name": "stdout",
     "output_type": "stream",
     "text": [
      "Failed connection root :  5479\n"
     ]
    }
   ],
   "source": [
    "failed_connection=rdd.filter(lambda line: \"Failed password for root\" in line)\n",
    "print(\"Failed connection root : \",failed_connection.count())"
   ]
  },
  {
   "cell_type": "markdown",
   "metadata": {},
   "source": [
    "### Login fallidos por ususario?"
   ]
  },
  {
   "cell_type": "code",
   "execution_count": 18,
   "metadata": {},
   "outputs": [
    {
     "data": {
      "text/plain": [
       "20353"
      ]
     },
     "execution_count": 18,
     "metadata": {},
     "output_type": "execute_result"
    }
   ],
   "source": [
    "failed_login=rdd.filter(lambda line: \"authentication failure\" in line)\n",
    "failed_login.count()\n"
   ]
  },
  {
   "cell_type": "code",
   "execution_count": 246,
   "metadata": {},
   "outputs": [
    {
     "data": {
      "text/plain": [
       "['Mar 18 09:41:54 app-1 login[4673]: pam_unix(login:auth): authentication failure; logname=LOGIN uid=0 euid=0 tty=tty1 ruser= rhost= ',\n",
       " 'Mar 18 11:20:17 app-1 su[9504]: pam_unix(su:auth): authentication failure; logname=user1 uid=1001 euid=0 tty=pts/0 ruser=user1 rhost=  user=root',\n",
       " 'Mar 18 11:20:24 app-1 su[9506]: pam_unix(su:auth): authentication failure; logname=user1 uid=1001 euid=0 tty=pts/0 ruser=user1 rhost=  user=root',\n",
       " 'Mar 18 11:38:04 app-1 sshd[10156]: pam_unix(sshd:auth): authentication failure; logname= uid=0 euid=0 tty=ssh ruser= rhost=adsl-71-132-129-212.dsl.pltn13.pacbell.net  user=user2',\n",
       " 'Mar 18 11:38:43 app-1 sshd[10156]: PAM 2 more authentication failures; logname= uid=0 euid=0 tty=ssh ruser= rhost=adsl-71-132-129-212.dsl.pltn13.pacbell.net  user=user2']"
      ]
     },
     "execution_count": 246,
     "metadata": {},
     "output_type": "execute_result"
    }
   ],
   "source": [
    "failed_login.take(5)"
   ]
  },
  {
   "cell_type": "code",
   "execution_count": 247,
   "metadata": {},
   "outputs": [
    {
     "data": {
      "text/plain": [
       "[' logname=LOGIN uid=0 euid=0 tty=tty1 ruser= rhost= ',\n",
       " ' logname=user1 uid=1001 euid=0 tty=pts/0 ruser=user1 rhost=  user=root',\n",
       " ' logname=user1 uid=1001 euid=0 tty=pts/0 ruser=user1 rhost=  user=root',\n",
       " ' logname= uid=0 euid=0 tty=ssh ruser= rhost=adsl-71-132-129-212.dsl.pltn13.pacbell.net  user=user2',\n",
       " ' logname= uid=0 euid=0 tty=ssh ruser= rhost=adsl-71-132-129-212.dsl.pltn13.pacbell.net  user=user2',\n",
       " ' logname= uid=0 euid=0 tty=ssh ruser= rhost=adsl-71-132-129-212.dsl.pltn13.pacbell.net  user=user2',\n",
       " ' logname=user3 uid=1000 euid=0 tty=pts/1 ruser=user3 rhost=  user=root',\n",
       " ' logname=user1 uid=0 euid=0 tty=/dev/pts/3 ruser= rhost=  user=user1',\n",
       " ' logname=user1 uid=0 euid=0 tty=/dev/pts/1 ruser= rhost=  user=user1',\n",
       " ' logname=user1 uid=0 euid=0 tty=/dev/pts/0 ruser= rhost=  user=user1',\n",
       " ' logname=user1 uid=0 euid=0 tty=/dev/pts/0 ruser= rhost=  user=user1',\n",
       " ' logname=user1 uid=0 euid=0 tty=/dev/pts/0 ruser= rhost=  user=user1',\n",
       " ' logname=user1 uid=0 euid=0 tty=/dev/pts/0 ruser= rhost=  user=user1',\n",
       " ' logname=user1 uid=0 euid=0 tty=/dev/pts/0 ruser= rhost=  user=user1',\n",
       " ' logname=user1 uid=0 euid=0 tty=/dev/pts/0 ruser= rhost=  user=user1',\n",
       " ' logname= uid=0 euid=0 tty=ssh ruser= rhost=208.80.69.74  user=user1',\n",
       " ' logname=user1 uid=0 euid=0 tty=/dev/pts/1 ruser= rhost=  user=user1',\n",
       " ' logname=user1 uid=0 euid=0 tty=/dev/pts/0 ruser= rhost=  user=user1',\n",
       " ' logname=user1 uid=0 euid=0 tty=/dev/pts/1 ruser= rhost=  user=user1',\n",
       " ' logname=user1 uid=0 euid=0 tty=/dev/pts/2 ruser= rhost=  user=user1',\n",
       " ' logname= uid=0 euid=0 tty=ssh ruser= rhost=61.151.246.140  user=root',\n",
       " ' logname= uid=0 euid=0 tty=ssh ruser= rhost=61.151.246.140  user=root',\n",
       " ' logname= uid=0 euid=0 tty=ssh ruser= rhost=61.151.246.140  user=root',\n",
       " ' logname= uid=0 euid=0 tty=ssh ruser= rhost=61.151.246.140  user=root',\n",
       " ' logname= uid=0 euid=0 tty=ssh ruser= rhost=61.151.246.140  user=root',\n",
       " ' logname= uid=0 euid=0 tty=ssh ruser= rhost=61.151.246.140  user=root',\n",
       " ' logname= uid=0 euid=0 tty=ssh ruser= rhost=61.151.246.140  user=root',\n",
       " ' logname= uid=0 euid=0 tty=ssh ruser= rhost=61.151.246.140  user=root',\n",
       " ' logname= uid=0 euid=0 tty=ssh ruser= rhost=61.151.246.140  user=root',\n",
       " ' logname= uid=0 euid=0 tty=ssh ruser= rhost=61.151.246.140  user=root',\n",
       " ' logname= uid=0 euid=0 tty=ssh ruser= rhost=61.151.246.140  user=root',\n",
       " ' logname= uid=0 euid=0 tty=ssh ruser= rhost=61.151.246.140  user=root',\n",
       " ' logname= uid=0 euid=0 tty=ssh ruser= rhost=61.151.246.140  user=root',\n",
       " ' logname= uid=0 euid=0 tty=ssh ruser= rhost=10.0.1.4  user=user3',\n",
       " ' logname= uid=0 euid=0 tty=ssh ruser= rhost=mail.mediamonitors.com.pk  user=root',\n",
       " ' logname= uid=0 euid=0 tty=ssh ruser= rhost=mail.mediamonitors.com.pk  user=root',\n",
       " ' logname= uid=0 euid=0 tty=ssh ruser= rhost=mail.mediamonitors.com.pk  user=root',\n",
       " ' logname= uid=0 euid=0 tty=ssh ruser= rhost=mail.mediamonitors.com.pk  user=root',\n",
       " ' logname= uid=0 euid=0 tty=ssh ruser= rhost=mail.mediamonitors.com.pk  user=root',\n",
       " ' logname= uid=0 euid=0 tty=ssh ruser= rhost=mail.mediamonitors.com.pk  user=root',\n",
       " ' logname= uid=0 euid=0 tty=ssh ruser= rhost=mail.mediamonitors.com.pk  user=root',\n",
       " ' logname= uid=0 euid=0 tty=ssh ruser= rhost=mail.mediamonitors.com.pk  user=root',\n",
       " ' logname= uid=0 euid=0 tty=ssh ruser= rhost=mail.mediamonitors.com.pk  user=root',\n",
       " ' logname= uid=0 euid=0 tty=ssh ruser= rhost=mail.mediamonitors.com.pk  user=root',\n",
       " ' logname= uid=0 euid=0 tty=ssh ruser= rhost=mail.mediamonitors.com.pk  user=root',\n",
       " ' logname= uid=0 euid=0 tty=ssh ruser= rhost=mail.mediamonitors.com.pk  user=root',\n",
       " ' logname= uid=0 euid=0 tty=ssh ruser= rhost=mail.mediamonitors.com.pk  user=root',\n",
       " ' logname= uid=0 euid=0 tty=ssh ruser= rhost=mail.mediamonitors.com.pk  user=root',\n",
       " ' logname= uid=0 euid=0 tty=ssh ruser= rhost=mail.mediamonitors.com.pk  user=root',\n",
       " ' logname= uid=0 euid=0 tty=ssh ruser= rhost=mail.mediamonitors.com.pk  user=root',\n",
       " ' logname= uid=0 euid=0 tty=ssh ruser= rhost=mail.mediamonitors.com.pk  user=root',\n",
       " ' logname= uid=0 euid=0 tty=ssh ruser= rhost=mail.mediamonitors.com.pk  user=root',\n",
       " ' logname= uid=0 euid=0 tty=ssh ruser= rhost=mail.mediamonitors.com.pk  user=root',\n",
       " ' logname= uid=0 euid=0 tty=ssh ruser= rhost=mail.mediamonitors.com.pk  user=root',\n",
       " ' logname= uid=0 euid=0 tty=ssh ruser= rhost=mail.mediamonitors.com.pk  user=root',\n",
       " ' logname= uid=0 euid=0 tty=ssh ruser= rhost=mail.mediamonitors.com.pk  user=root',\n",
       " ' logname= uid=0 euid=0 tty=ssh ruser= rhost=mail.mediamonitors.com.pk  user=root',\n",
       " ' logname= uid=0 euid=0 tty=ssh ruser= rhost=mail.mediamonitors.com.pk  user=root',\n",
       " ' logname= uid=0 euid=0 tty=ssh ruser= rhost=mail.mediamonitors.com.pk  user=root',\n",
       " ' logname= uid=0 euid=0 tty=ssh ruser= rhost=mail.mediamonitors.com.pk  user=root',\n",
       " ' logname= uid=0 euid=0 tty=ssh ruser= rhost=mail.mediamonitors.com.pk  user=root',\n",
       " ' logname= uid=0 euid=0 tty=ssh ruser= rhost=mail.mediamonitors.com.pk  user=root',\n",
       " ' logname= uid=0 euid=0 tty=ssh ruser= rhost=mail.mediamonitors.com.pk  user=root',\n",
       " ' logname= uid=0 euid=0 tty=ssh ruser= rhost=mail.mediamonitors.com.pk  user=root',\n",
       " ' logname= uid=0 euid=0 tty=ssh ruser= rhost=mail.mediamonitors.com.pk  user=root',\n",
       " ' logname= uid=0 euid=0 tty=ssh ruser= rhost=mail.mediamonitors.com.pk  user=root',\n",
       " ' logname= uid=0 euid=0 tty=ssh ruser= rhost=mail.mediamonitors.com.pk  user=root',\n",
       " ' logname= uid=0 euid=0 tty=ssh ruser= rhost=mail.mediamonitors.com.pk  user=root',\n",
       " ' logname= uid=0 euid=0 tty=ssh ruser= rhost=mail.mediamonitors.com.pk  user=root',\n",
       " ' logname= uid=0 euid=0 tty=ssh ruser= rhost=mail.mediamonitors.com.pk  user=root',\n",
       " ' logname= uid=0 euid=0 tty=ssh ruser= rhost=mail.mediamonitors.com.pk  user=root',\n",
       " ' logname= uid=0 euid=0 tty=ssh ruser= rhost=mail.mediamonitors.com.pk  user=root',\n",
       " ' logname= uid=0 euid=0 tty=ssh ruser= rhost=mail.mediamonitors.com.pk  user=root',\n",
       " ' logname= uid=0 euid=0 tty=ssh ruser= rhost=mail.mediamonitors.com.pk  user=root',\n",
       " ' logname= uid=0 euid=0 tty=ssh ruser= rhost=mail.mediamonitors.com.pk  user=root',\n",
       " ' logname= uid=0 euid=0 tty=ssh ruser= rhost=mail.mediamonitors.com.pk  user=root',\n",
       " ' logname= uid=0 euid=0 tty=ssh ruser= rhost=mail.mediamonitors.com.pk  user=root',\n",
       " ' logname= uid=0 euid=0 tty=ssh ruser= rhost=mail.mediamonitors.com.pk  user=root',\n",
       " ' logname= uid=0 euid=0 tty=ssh ruser= rhost=mail.mediamonitors.com.pk  user=root',\n",
       " ' logname= uid=0 euid=0 tty=ssh ruser= rhost=mail.mediamonitors.com.pk  user=root',\n",
       " ' logname= uid=0 euid=0 tty=ssh ruser= rhost=mail.mediamonitors.com.pk ',\n",
       " ' logname= uid=0 euid=0 tty=ssh ruser= rhost=mail.mediamonitors.com.pk  user=root',\n",
       " ' logname= uid=0 euid=0 tty=ssh ruser= rhost=mail.mediamonitors.com.pk  user=root',\n",
       " ' logname= uid=0 euid=0 tty=ssh ruser= rhost=mail.mediamonitors.com.pk  user=root',\n",
       " ' logname= uid=0 euid=0 tty=ssh ruser= rhost=mail.mediamonitors.com.pk  user=root',\n",
       " ' logname= uid=0 euid=0 tty=ssh ruser= rhost=mail.mediamonitors.com.pk  user=root',\n",
       " ' logname= uid=0 euid=0 tty=ssh ruser= rhost=mail.mediamonitors.com.pk  user=root',\n",
       " ' logname= uid=0 euid=0 tty=ssh ruser= rhost=mail.mediamonitors.com.pk  user=root',\n",
       " ' logname= uid=0 euid=0 tty=ssh ruser= rhost=mail.mediamonitors.com.pk  user=root',\n",
       " ' logname= uid=0 euid=0 tty=ssh ruser= rhost=mail.mediamonitors.com.pk  user=root',\n",
       " ' logname= uid=0 euid=0 tty=ssh ruser= rhost=mail.mediamonitors.com.pk  user=root',\n",
       " ' logname= uid=0 euid=0 tty=ssh ruser= rhost=mail.mediamonitors.com.pk  user=root',\n",
       " ' logname= uid=0 euid=0 tty=ssh ruser= rhost=mail.mediamonitors.com.pk  user=root',\n",
       " ' logname= uid=0 euid=0 tty=ssh ruser= rhost=mail.mediamonitors.com.pk  user=root',\n",
       " ' logname= uid=0 euid=0 tty=ssh ruser= rhost=mail.mediamonitors.com.pk  user=root',\n",
       " ' logname= uid=0 euid=0 tty=ssh ruser= rhost=mail.mediamonitors.com.pk  user=root',\n",
       " ' logname= uid=0 euid=0 tty=ssh ruser= rhost=mail.mediamonitors.com.pk  user=root',\n",
       " ' logname= uid=0 euid=0 tty=ssh ruser= rhost=mail.mediamonitors.com.pk  user=root',\n",
       " ' logname= uid=0 euid=0 tty=ssh ruser= rhost=mail.mediamonitors.com.pk  user=root',\n",
       " ' logname= uid=0 euid=0 tty=ssh ruser= rhost=mail.mediamonitors.com.pk  user=root',\n",
       " ' logname= uid=0 euid=0 tty=ssh ruser= rhost=mail.mediamonitors.com.pk  user=root',\n",
       " ' logname= uid=0 euid=0 tty=ssh ruser= rhost=mail.mediamonitors.com.pk  user=root',\n",
       " ' logname= uid=0 euid=0 tty=ssh ruser= rhost=mail.mediamonitors.com.pk  user=root',\n",
       " ' logname= uid=0 euid=0 tty=ssh ruser= rhost=mail.mediamonitors.com.pk  user=root',\n",
       " ' logname= uid=0 euid=0 tty=ssh ruser= rhost=mail.mediamonitors.com.pk  user=root',\n",
       " ' logname= uid=0 euid=0 tty=ssh ruser= rhost=mail.mediamonitors.com.pk  user=root',\n",
       " ' logname= uid=0 euid=0 tty=ssh ruser= rhost=mail.mediamonitors.com.pk  user=root',\n",
       " ' logname= uid=0 euid=0 tty=ssh ruser= rhost=mail.mediamonitors.com.pk  user=root',\n",
       " ' logname= uid=0 euid=0 tty=ssh ruser= rhost=mail.mediamonitors.com.pk  user=root',\n",
       " ' logname= uid=0 euid=0 tty=ssh ruser= rhost=mail.mediamonitors.com.pk  user=root',\n",
       " ' logname= uid=0 euid=0 tty=ssh ruser= rhost=58.17.30.49  user=root',\n",
       " ' logname= uid=0 euid=0 tty=ssh ruser= rhost=58.17.30.49  user=root',\n",
       " ' logname= uid=0 euid=0 tty=ssh ruser= rhost=58.17.30.49  user=root',\n",
       " ' logname= uid=0 euid=0 tty=ssh ruser= rhost=58.17.30.49  user=root',\n",
       " ' logname= uid=0 euid=0 tty=ssh ruser= rhost=58.17.30.49  user=root',\n",
       " ' logname= uid=0 euid=0 tty=ssh ruser= rhost=58.17.30.49  user=root',\n",
       " ' logname= uid=0 euid=0 tty=ssh ruser= rhost=58.17.30.49  user=root',\n",
       " ' logname= uid=0 euid=0 tty=ssh ruser= rhost=58.17.30.49 ',\n",
       " ' logname= uid=0 euid=0 tty=ssh ruser= rhost=58.17.30.49  user=root',\n",
       " ' logname= uid=0 euid=0 tty=ssh ruser= rhost=58.17.30.49  user=root',\n",
       " ' logname= uid=0 euid=0 tty=ssh ruser= rhost=58.17.30.49  user=root',\n",
       " ' logname= uid=0 euid=0 tty=ssh ruser= rhost=58.17.30.49  user=root',\n",
       " ' logname= uid=0 euid=0 tty=ssh ruser= rhost=58.17.30.49  user=root',\n",
       " ' logname= uid=0 euid=0 tty=ssh ruser= rhost=58.17.30.49  user=root',\n",
       " ' logname= uid=0 euid=0 tty=ssh ruser= rhost=58.17.30.49  user=root',\n",
       " ' logname= uid=0 euid=0 tty=ssh ruser= rhost=58.17.30.49  user=root',\n",
       " ' logname= uid=0 euid=0 tty=ssh ruser= rhost=58.17.30.49  user=root',\n",
       " ' logname= uid=0 euid=0 tty=ssh ruser= rhost=58.17.30.49  user=root',\n",
       " ' logname= uid=0 euid=0 tty=ssh ruser= rhost=58.17.30.49  user=root',\n",
       " ' logname= uid=0 euid=0 tty=ssh ruser= rhost=58.17.30.49  user=root',\n",
       " ' logname= uid=0 euid=0 tty=ssh ruser= rhost=58.17.30.49  user=root',\n",
       " ' logname= uid=0 euid=0 tty=ssh ruser= rhost=58.17.30.49  user=root',\n",
       " ' logname= uid=0 euid=0 tty=ssh ruser= rhost=58.17.30.49  user=root',\n",
       " ' logname= uid=0 euid=0 tty=ssh ruser= rhost=58.17.30.49  user=root',\n",
       " ' logname= uid=0 euid=0 tty=ssh ruser= rhost=58.17.30.49  user=root',\n",
       " ' logname= uid=0 euid=0 tty=ssh ruser= rhost=58.17.30.49  user=root',\n",
       " ' logname= uid=0 euid=0 tty=ssh ruser= rhost=58.17.30.49  user=root',\n",
       " ' logname= uid=0 euid=0 tty=ssh ruser= rhost=58.17.30.49  user=root',\n",
       " ' logname= uid=0 euid=0 tty=ssh ruser= rhost=58.17.30.49  user=root',\n",
       " ' logname= uid=0 euid=0 tty=ssh ruser= rhost=58.17.30.49  user=root',\n",
       " ' logname= uid=0 euid=0 tty=ssh ruser= rhost=58.17.30.49  user=root',\n",
       " ' logname= uid=0 euid=0 tty=ssh ruser= rhost=58.17.30.49  user=root',\n",
       " ' logname= uid=0 euid=0 tty=ssh ruser= rhost=58.17.30.49  user=root',\n",
       " ' logname= uid=0 euid=0 tty=ssh ruser= rhost=58.17.30.49  user=root',\n",
       " ' logname= uid=0 euid=0 tty=ssh ruser= rhost=58.17.30.49  user=root',\n",
       " ' logname= uid=0 euid=0 tty=ssh ruser= rhost=58.17.30.49  user=root',\n",
       " ' logname= uid=0 euid=0 tty=ssh ruser= rhost=58.17.30.49  user=root',\n",
       " ' logname= uid=0 euid=0 tty=ssh ruser= rhost=58.17.30.49  user=root',\n",
       " ' logname= uid=0 euid=0 tty=ssh ruser= rhost=58.17.30.49  user=root',\n",
       " ' logname= uid=0 euid=0 tty=ssh ruser= rhost=58.17.30.49  user=root',\n",
       " ' logname= uid=0 euid=0 tty=ssh ruser= rhost=58.17.30.49  user=root',\n",
       " ' logname= uid=0 euid=0 tty=ssh ruser= rhost=58.17.30.49  user=root',\n",
       " ' logname= uid=0 euid=0 tty=ssh ruser= rhost=58.17.30.49  user=root',\n",
       " ' logname= uid=0 euid=0 tty=ssh ruser= rhost=58.17.30.49  user=root',\n",
       " ' logname= uid=0 euid=0 tty=ssh ruser= rhost=58.17.30.49  user=root',\n",
       " ' logname= uid=0 euid=0 tty=ssh ruser= rhost=58.17.30.49  user=root',\n",
       " ' logname= uid=0 euid=0 tty=ssh ruser= rhost=58.17.30.49  user=root',\n",
       " ' logname= uid=0 euid=0 tty=ssh ruser= rhost=58.17.30.49 ',\n",
       " ' logname= uid=0 euid=0 tty=ssh ruser= rhost=58.17.30.49 ',\n",
       " ' logname= uid=0 euid=0 tty=ssh ruser= rhost=58.17.30.49 ',\n",
       " ' logname= uid=0 euid=0 tty=ssh ruser= rhost=58.17.30.49 ',\n",
       " ' logname= uid=0 euid=0 tty=ssh ruser= rhost=58.17.30.49 ',\n",
       " ' logname= uid=0 euid=0 tty=ssh ruser= rhost=58.17.30.49 ',\n",
       " ' logname= uid=0 euid=0 tty=ssh ruser= rhost=58.17.30.49 ',\n",
       " ' logname= uid=0 euid=0 tty=ssh ruser= rhost=58.17.30.49 ',\n",
       " ' logname= uid=0 euid=0 tty=ssh ruser= rhost=58.17.30.49 ',\n",
       " ' logname= uid=0 euid=0 tty=ssh ruser= rhost=58.17.30.49 ',\n",
       " ' logname= uid=0 euid=0 tty=ssh ruser= rhost=58.17.30.49 ',\n",
       " ' logname= uid=0 euid=0 tty=ssh ruser= rhost=58.17.30.49 ',\n",
       " ' logname= uid=0 euid=0 tty=ssh ruser= rhost=58.17.30.49  user=root',\n",
       " ' logname= uid=0 euid=0 tty=ssh ruser= rhost=58.17.30.49  user=root',\n",
       " ' logname= uid=0 euid=0 tty=ssh ruser= rhost=58.17.30.49  user=root',\n",
       " ' logname= uid=0 euid=0 tty=ssh ruser= rhost=58.17.30.49  user=root',\n",
       " ' logname= uid=0 euid=0 tty=ssh ruser= rhost=58.17.30.49  user=root',\n",
       " ' logname= uid=0 euid=0 tty=ssh ruser= rhost=58.17.30.49  user=root',\n",
       " ' logname= uid=0 euid=0 tty=ssh ruser= rhost=58.17.30.49  user=root',\n",
       " ' logname= uid=0 euid=0 tty=ssh ruser= rhost=58.17.30.49  user=root',\n",
       " ' logname= uid=0 euid=0 tty=ssh ruser= rhost=58.17.30.49  user=root',\n",
       " ' logname= uid=0 euid=0 tty=ssh ruser= rhost=58.17.30.49  user=root',\n",
       " ' logname= uid=0 euid=0 tty=ssh ruser= rhost=58.17.30.49  user=root',\n",
       " ' logname= uid=0 euid=0 tty=ssh ruser= rhost=58.17.30.49  user=root',\n",
       " ' logname= uid=0 euid=0 tty=ssh ruser= rhost=58.17.30.49  user=root',\n",
       " ' logname= uid=0 euid=0 tty=ssh ruser= rhost=58.17.30.49  user=root',\n",
       " ' logname= uid=0 euid=0 tty=ssh ruser= rhost=58.17.30.49  user=root',\n",
       " ' logname= uid=0 euid=0 tty=ssh ruser= rhost=58.17.30.49  user=root',\n",
       " ' logname= uid=0 euid=0 tty=ssh ruser= rhost=58.17.30.49  user=root',\n",
       " ' logname= uid=0 euid=0 tty=ssh ruser= rhost=58.17.30.49  user=root',\n",
       " ' logname= uid=0 euid=0 tty=ssh ruser= rhost=58.17.30.49  user=root',\n",
       " ' logname= uid=0 euid=0 tty=ssh ruser= rhost=58.17.30.49  user=root',\n",
       " ' logname= uid=0 euid=0 tty=ssh ruser= rhost=58.17.30.49  user=root',\n",
       " ' logname= uid=0 euid=0 tty=ssh ruser= rhost=58.17.30.49  user=root',\n",
       " ' logname= uid=0 euid=0 tty=ssh ruser= rhost=58.17.30.49  user=root',\n",
       " ' logname= uid=0 euid=0 tty=ssh ruser= rhost=58.17.30.49  user=root',\n",
       " ' logname= uid=0 euid=0 tty=ssh ruser= rhost=58.17.30.49  user=root',\n",
       " ' logname= uid=0 euid=0 tty=ssh ruser= rhost=58.17.30.49  user=root',\n",
       " ' logname= uid=0 euid=0 tty=ssh ruser= rhost=58.17.30.49  user=root',\n",
       " ' logname= uid=0 euid=0 tty=ssh ruser= rhost=58.17.30.49  user=root',\n",
       " ' logname= uid=0 euid=0 tty=ssh ruser= rhost=58.17.30.49  user=root',\n",
       " ' logname= uid=0 euid=0 tty=ssh ruser= rhost=58.17.30.49  user=root',\n",
       " ' logname= uid=0 euid=0 tty=ssh ruser= rhost=58.17.30.49  user=root',\n",
       " ' logname= uid=0 euid=0 tty=ssh ruser= rhost=58.17.30.49  user=root',\n",
       " ' logname= uid=0 euid=0 tty=ssh ruser= rhost=58.17.30.49  user=root',\n",
       " ' logname= uid=0 euid=0 tty=ssh ruser= rhost=58.17.30.49  user=root',\n",
       " ' logname= uid=0 euid=0 tty=ssh ruser= rhost=58.17.30.49  user=root',\n",
       " ' logname= uid=0 euid=0 tty=ssh ruser= rhost=58.17.30.49  user=root',\n",
       " ' logname= uid=0 euid=0 tty=ssh ruser= rhost=58.17.30.49  user=root',\n",
       " ' logname= uid=0 euid=0 tty=ssh ruser= rhost=58.17.30.49  user=root',\n",
       " ' logname= uid=0 euid=0 tty=ssh ruser= rhost=58.17.30.49  user=root',\n",
       " ' logname= uid=0 euid=0 tty=ssh ruser= rhost=58.17.30.49  user=root',\n",
       " ' logname= uid=0 euid=0 tty=ssh ruser= rhost=58.17.30.49  user=root',\n",
       " ' logname= uid=0 euid=0 tty=ssh ruser= rhost=58.17.30.49  user=root',\n",
       " ' logname= uid=0 euid=0 tty=ssh ruser= rhost=58.17.30.49  user=root',\n",
       " ' logname= uid=0 euid=0 tty=ssh ruser= rhost=58.17.30.49  user=root',\n",
       " ' logname= uid=0 euid=0 tty=ssh ruser= rhost=58.17.30.49  user=root',\n",
       " ' logname= uid=0 euid=0 tty=ssh ruser= rhost=58.17.30.49  user=root',\n",
       " ' logname= uid=0 euid=0 tty=ssh ruser= rhost=58.17.30.49  user=root',\n",
       " ' logname= uid=0 euid=0 tty=ssh ruser= rhost=58.17.30.49  user=root',\n",
       " ' logname= uid=0 euid=0 tty=ssh ruser= rhost=58.17.30.49  user=root',\n",
       " ' logname= uid=0 euid=0 tty=ssh ruser= rhost=58.17.30.49  user=root',\n",
       " ' logname= uid=0 euid=0 tty=ssh ruser= rhost=58.17.30.49  user=root',\n",
       " ' logname= uid=0 euid=0 tty=ssh ruser= rhost=58.17.30.49  user=root',\n",
       " ' logname= uid=0 euid=0 tty=ssh ruser= rhost=58.17.30.49  user=root',\n",
       " ' logname= uid=0 euid=0 tty=ssh ruser= rhost=58.17.30.49  user=root',\n",
       " ' logname= uid=0 euid=0 tty=ssh ruser= rhost=58.17.30.49  user=root',\n",
       " ' logname= uid=0 euid=0 tty=ssh ruser= rhost=58.17.30.49  user=root',\n",
       " ' logname= uid=0 euid=0 tty=ssh ruser= rhost=58.17.30.49  user=root',\n",
       " ' logname= uid=0 euid=0 tty=ssh ruser= rhost=58.17.30.49  user=root',\n",
       " ' logname= uid=0 euid=0 tty=ssh ruser= rhost=58.17.30.49  user=root',\n",
       " ' logname= uid=0 euid=0 tty=ssh ruser= rhost=58.17.30.49  user=root',\n",
       " ' logname= uid=0 euid=0 tty=ssh ruser= rhost=58.17.30.49  user=root',\n",
       " ' logname= uid=0 euid=0 tty=ssh ruser= rhost=58.17.30.49  user=root',\n",
       " ' logname= uid=0 euid=0 tty=ssh ruser= rhost=58.17.30.49  user=root',\n",
       " ' logname= uid=0 euid=0 tty=ssh ruser= rhost=58.17.30.49  user=root',\n",
       " ' logname= uid=0 euid=0 tty=ssh ruser= rhost=58.17.30.49  user=root',\n",
       " ' logname= uid=0 euid=0 tty=ssh ruser= rhost=58.17.30.49  user=root',\n",
       " ' logname= uid=0 euid=0 tty=ssh ruser= rhost=58.17.30.49  user=root',\n",
       " ' logname= uid=0 euid=0 tty=ssh ruser= rhost=58.17.30.49  user=root',\n",
       " ' logname= uid=0 euid=0 tty=ssh ruser= rhost=58.17.30.49  user=root',\n",
       " ' logname= uid=0 euid=0 tty=ssh ruser= rhost=58.17.30.49  user=root',\n",
       " ' logname= uid=0 euid=0 tty=ssh ruser= rhost=58.17.30.49  user=root',\n",
       " ' logname= uid=0 euid=0 tty=ssh ruser= rhost=58.17.30.49  user=root',\n",
       " ' logname= uid=0 euid=0 tty=ssh ruser= rhost=58.17.30.49  user=root',\n",
       " ' logname= uid=0 euid=0 tty=ssh ruser= rhost=58.17.30.49  user=root',\n",
       " ' logname= uid=0 euid=0 tty=ssh ruser= rhost=58.17.30.49  user=root',\n",
       " ' logname= uid=0 euid=0 tty=ssh ruser= rhost=58.17.30.49  user=root',\n",
       " ' logname= uid=0 euid=0 tty=ssh ruser= rhost=58.17.30.49  user=root',\n",
       " ' logname= uid=0 euid=0 tty=ssh ruser= rhost=58.17.30.49  user=root',\n",
       " ' logname= uid=0 euid=0 tty=ssh ruser= rhost=58.17.30.49  user=root',\n",
       " ' logname= uid=0 euid=0 tty=ssh ruser= rhost=58.17.30.49  user=root',\n",
       " ' logname= uid=0 euid=0 tty=ssh ruser= rhost=58.17.30.49  user=root',\n",
       " ' logname= uid=0 euid=0 tty=ssh ruser= rhost=58.17.30.49  user=root',\n",
       " ' logname= uid=0 euid=0 tty=ssh ruser= rhost=58.17.30.49  user=root',\n",
       " ' logname= uid=0 euid=0 tty=ssh ruser= rhost=58.17.30.49  user=root',\n",
       " ' logname= uid=0 euid=0 tty=ssh ruser= rhost=58.17.30.49  user=root',\n",
       " ' logname= uid=0 euid=0 tty=ssh ruser= rhost=58.17.30.49  user=root',\n",
       " ' logname= uid=0 euid=0 tty=ssh ruser= rhost=58.17.30.49  user=root',\n",
       " ' logname= uid=0 euid=0 tty=ssh ruser= rhost=58.17.30.49  user=root',\n",
       " ' logname= uid=0 euid=0 tty=ssh ruser= rhost=58.17.30.49  user=root',\n",
       " ' logname= uid=0 euid=0 tty=ssh ruser= rhost=58.17.30.49  user=root',\n",
       " ' logname= uid=0 euid=0 tty=ssh ruser= rhost=58.17.30.49  user=root',\n",
       " ' logname= uid=0 euid=0 tty=ssh ruser= rhost=58.17.30.49  user=root',\n",
       " ' logname= uid=0 euid=0 tty=ssh ruser= rhost=58.17.30.49  user=root',\n",
       " ' logname= uid=0 euid=0 tty=ssh ruser= rhost=58.17.30.49  user=root',\n",
       " ' logname= uid=0 euid=0 tty=ssh ruser= rhost=58.17.30.49  user=root',\n",
       " ' logname= uid=0 euid=0 tty=ssh ruser= rhost=58.17.30.49  user=root',\n",
       " ' logname= uid=0 euid=0 tty=ssh ruser= rhost=58.17.30.49  user=root',\n",
       " ' logname= uid=0 euid=0 tty=ssh ruser= rhost=58.17.30.49  user=root',\n",
       " ' logname= uid=0 euid=0 tty=ssh ruser= rhost=58.17.30.49  user=root',\n",
       " ' logname= uid=0 euid=0 tty=ssh ruser= rhost=58.17.30.49  user=root',\n",
       " ' logname= uid=0 euid=0 tty=ssh ruser= rhost=58.17.30.49  user=root',\n",
       " ' logname= uid=0 euid=0 tty=ssh ruser= rhost=58.17.30.49  user=root',\n",
       " ' logname= uid=0 euid=0 tty=ssh ruser= rhost=58.17.30.49  user=root',\n",
       " ' logname= uid=0 euid=0 tty=ssh ruser= rhost=58.17.30.49  user=root',\n",
       " ' logname= uid=0 euid=0 tty=ssh ruser= rhost=58.17.30.49  user=root',\n",
       " ' logname= uid=0 euid=0 tty=ssh ruser= rhost=58.17.30.49  user=root',\n",
       " ' logname= uid=0 euid=0 tty=ssh ruser= rhost=58.17.30.49  user=root',\n",
       " ' logname= uid=0 euid=0 tty=ssh ruser= rhost=58.17.30.49  user=root',\n",
       " ' logname= uid=0 euid=0 tty=ssh ruser= rhost=58.17.30.49  user=root',\n",
       " ' logname= uid=0 euid=0 tty=ssh ruser= rhost=58.17.30.49  user=root',\n",
       " ' logname= uid=0 euid=0 tty=ssh ruser= rhost=58.17.30.49  user=root',\n",
       " ' logname= uid=0 euid=0 tty=ssh ruser= rhost=58.17.30.49  user=root',\n",
       " ' logname= uid=0 euid=0 tty=ssh ruser= rhost=58.17.30.49  user=root',\n",
       " ' logname= uid=0 euid=0 tty=ssh ruser= rhost=58.17.30.49  user=root',\n",
       " ' logname= uid=0 euid=0 tty=ssh ruser= rhost=58.17.30.49  user=root',\n",
       " ' logname= uid=0 euid=0 tty=ssh ruser= rhost=58.17.30.49  user=root',\n",
       " ' logname= uid=0 euid=0 tty=ssh ruser= rhost=58.17.30.49  user=root',\n",
       " ' logname= uid=0 euid=0 tty=ssh ruser= rhost=58.17.30.49  user=root',\n",
       " ' logname= uid=0 euid=0 tty=ssh ruser= rhost=58.17.30.49  user=root',\n",
       " ' logname= uid=0 euid=0 tty=ssh ruser= rhost=58.17.30.49  user=root',\n",
       " ' logname= uid=0 euid=0 tty=ssh ruser= rhost=58.17.30.49  user=root',\n",
       " ' logname= uid=0 euid=0 tty=ssh ruser= rhost=58.17.30.49  user=root',\n",
       " ' logname= uid=0 euid=0 tty=ssh ruser= rhost=58.17.30.49  user=root',\n",
       " ' logname= uid=0 euid=0 tty=ssh ruser= rhost=58.17.30.49  user=root',\n",
       " ' logname= uid=0 euid=0 tty=ssh ruser= rhost=58.17.30.49  user=root',\n",
       " ' logname= uid=0 euid=0 tty=ssh ruser= rhost=58.17.30.49  user=root',\n",
       " ' logname= uid=0 euid=0 tty=ssh ruser= rhost=58.17.30.49  user=root',\n",
       " ' logname= uid=0 euid=0 tty=ssh ruser= rhost=58.17.30.49  user=root',\n",
       " ' logname= uid=0 euid=0 tty=ssh ruser= rhost=58.17.30.49  user=root',\n",
       " ' logname= uid=0 euid=0 tty=ssh ruser= rhost=58.17.30.49  user=root',\n",
       " ' logname= uid=0 euid=0 tty=ssh ruser= rhost=58.17.30.49  user=root',\n",
       " ' logname= uid=0 euid=0 tty=ssh ruser= rhost=58.17.30.49  user=root',\n",
       " ' logname= uid=0 euid=0 tty=ssh ruser= rhost=58.17.30.49  user=root',\n",
       " ' logname= uid=0 euid=0 tty=ssh ruser= rhost=58.17.30.49  user=root',\n",
       " ' logname= uid=0 euid=0 tty=ssh ruser= rhost=58.17.30.49  user=root',\n",
       " ' logname= uid=0 euid=0 tty=ssh ruser= rhost=58.17.30.49  user=root',\n",
       " ' logname= uid=0 euid=0 tty=ssh ruser= rhost=58.17.30.49  user=root',\n",
       " ' logname= uid=0 euid=0 tty=ssh ruser= rhost=58.17.30.49  user=root',\n",
       " ' logname= uid=0 euid=0 tty=ssh ruser= rhost=58.17.30.49  user=root',\n",
       " ' logname= uid=0 euid=0 tty=ssh ruser= rhost=58.17.30.49  user=root',\n",
       " ' logname= uid=0 euid=0 tty=ssh ruser= rhost=58.17.30.49  user=root',\n",
       " ' logname= uid=0 euid=0 tty=ssh ruser= rhost=58.17.30.49  user=root',\n",
       " ' logname= uid=0 euid=0 tty=ssh ruser= rhost=58.17.30.49  user=root',\n",
       " ' logname= uid=0 euid=0 tty=ssh ruser= rhost=58.17.30.49  user=root',\n",
       " ' logname= uid=0 euid=0 tty=ssh ruser= rhost=58.17.30.49  user=root',\n",
       " ' logname= uid=0 euid=0 tty=ssh ruser= rhost=58.17.30.49  user=root',\n",
       " ' logname= uid=0 euid=0 tty=ssh ruser= rhost=58.17.30.49  user=root',\n",
       " ' logname= uid=0 euid=0 tty=ssh ruser= rhost=58.17.30.49  user=root',\n",
       " ' logname= uid=0 euid=0 tty=ssh ruser= rhost=58.17.30.49  user=root',\n",
       " ' logname= uid=0 euid=0 tty=ssh ruser= rhost=58.17.30.49  user=root',\n",
       " ' logname= uid=0 euid=0 tty=ssh ruser= rhost=58.17.30.49  user=root',\n",
       " ' logname= uid=0 euid=0 tty=ssh ruser= rhost=58.17.30.49  user=root',\n",
       " ' logname= uid=0 euid=0 tty=ssh ruser= rhost=58.17.30.49  user=root',\n",
       " ' logname= uid=0 euid=0 tty=ssh ruser= rhost=58.17.30.49  user=root',\n",
       " ' logname= uid=0 euid=0 tty=ssh ruser= rhost=58.17.30.49  user=root',\n",
       " ' logname= uid=0 euid=0 tty=ssh ruser= rhost=58.17.30.49  user=root',\n",
       " ' logname= uid=0 euid=0 tty=ssh ruser= rhost=58.17.30.49  user=root',\n",
       " ' logname= uid=0 euid=0 tty=ssh ruser= rhost=58.17.30.49  user=root',\n",
       " ' logname= uid=0 euid=0 tty=ssh ruser= rhost=58.17.30.49  user=root',\n",
       " ' logname= uid=0 euid=0 tty=ssh ruser= rhost=58.17.30.49  user=root',\n",
       " ' logname= uid=0 euid=0 tty=ssh ruser= rhost=58.17.30.49  user=root',\n",
       " ' logname= uid=0 euid=0 tty=ssh ruser= rhost=58.17.30.49  user=root',\n",
       " ' logname= uid=0 euid=0 tty=ssh ruser= rhost=58.17.30.49  user=root',\n",
       " ' logname= uid=0 euid=0 tty=ssh ruser= rhost=58.17.30.49  user=root',\n",
       " ' logname= uid=0 euid=0 tty=ssh ruser= rhost=58.17.30.49  user=root',\n",
       " ' logname= uid=0 euid=0 tty=ssh ruser= rhost=58.17.30.49  user=root',\n",
       " ' logname= uid=0 euid=0 tty=ssh ruser= rhost=58.17.30.49  user=root',\n",
       " ' logname= uid=0 euid=0 tty=ssh ruser= rhost=58.17.30.49  user=root',\n",
       " ' logname= uid=0 euid=0 tty=ssh ruser= rhost=58.17.30.49  user=root',\n",
       " ' logname= uid=0 euid=0 tty=ssh ruser= rhost=58.17.30.49  user=root',\n",
       " ' logname= uid=0 euid=0 tty=ssh ruser= rhost=58.17.30.49  user=root',\n",
       " ' logname= uid=0 euid=0 tty=ssh ruser= rhost=58.17.30.49  user=root',\n",
       " ' logname= uid=0 euid=0 tty=ssh ruser= rhost=58.17.30.49  user=root',\n",
       " ' logname= uid=0 euid=0 tty=ssh ruser= rhost=58.17.30.49  user=root',\n",
       " ' logname= uid=0 euid=0 tty=ssh ruser= rhost=58.17.30.49  user=root',\n",
       " ' logname= uid=0 euid=0 tty=ssh ruser= rhost=58.17.30.49  user=root',\n",
       " ' logname= uid=0 euid=0 tty=ssh ruser= rhost=58.17.30.49  user=root',\n",
       " ' logname= uid=0 euid=0 tty=ssh ruser= rhost=58.17.30.49  user=root',\n",
       " ' logname= uid=0 euid=0 tty=ssh ruser= rhost=58.17.30.49  user=root',\n",
       " ' logname= uid=0 euid=0 tty=ssh ruser= rhost=58.17.30.49  user=root',\n",
       " ' logname= uid=0 euid=0 tty=ssh ruser= rhost=58.17.30.49  user=root',\n",
       " ' logname= uid=0 euid=0 tty=ssh ruser= rhost=58.17.30.49  user=root',\n",
       " ' logname= uid=0 euid=0 tty=ssh ruser= rhost=58.17.30.49  user=root',\n",
       " ' logname= uid=0 euid=0 tty=ssh ruser= rhost=58.17.30.49  user=root',\n",
       " ' logname= uid=0 euid=0 tty=ssh ruser= rhost=58.17.30.49  user=root',\n",
       " ' logname= uid=0 euid=0 tty=ssh ruser= rhost=58.17.30.49  user=root',\n",
       " ' logname= uid=0 euid=0 tty=ssh ruser= rhost=58.17.30.49  user=root',\n",
       " ' logname= uid=0 euid=0 tty=ssh ruser= rhost=58.17.30.49  user=root',\n",
       " ' logname= uid=0 euid=0 tty=ssh ruser= rhost=58.17.30.49  user=root',\n",
       " ' logname= uid=0 euid=0 tty=ssh ruser= rhost=58.17.30.49  user=root',\n",
       " ' logname= uid=0 euid=0 tty=ssh ruser= rhost=58.17.30.49  user=root',\n",
       " ' logname= uid=0 euid=0 tty=ssh ruser= rhost=58.17.30.49  user=root',\n",
       " ' logname= uid=0 euid=0 tty=ssh ruser= rhost=58.17.30.49  user=root',\n",
       " ' logname= uid=0 euid=0 tty=ssh ruser= rhost=219.150.161.20 ',\n",
       " ' logname= uid=0 euid=0 tty=ssh ruser= rhost=219.150.161.20 ',\n",
       " ' logname= uid=0 euid=0 tty=ssh ruser= rhost=58.17.30.49  user=root',\n",
       " ' logname= uid=0 euid=0 tty=ssh ruser= rhost=219.150.161.20 ',\n",
       " ' logname= uid=0 euid=0 tty=ssh ruser= rhost=219.150.161.20 ',\n",
       " ' logname= uid=0 euid=0 tty=ssh ruser= rhost=219.150.161.20 ',\n",
       " ' logname= uid=0 euid=0 tty=ssh ruser= rhost=58.17.30.49  user=root',\n",
       " ' logname= uid=0 euid=0 tty=ssh ruser= rhost=219.150.161.20 ',\n",
       " ' logname= uid=0 euid=0 tty=ssh ruser= rhost=219.150.161.20 ',\n",
       " ' logname= uid=0 euid=0 tty=ssh ruser= rhost=219.150.161.20 ',\n",
       " ' logname= uid=0 euid=0 tty=ssh ruser= rhost=219.150.161.20 ',\n",
       " ' logname= uid=0 euid=0 tty=ssh ruser= rhost=58.17.30.49  user=root',\n",
       " ' logname= uid=0 euid=0 tty=ssh ruser= rhost=219.150.161.20  user=root',\n",
       " ' logname= uid=0 euid=0 tty=ssh ruser= rhost=219.150.161.20 ',\n",
       " ' logname= uid=0 euid=0 tty=ssh ruser= rhost=219.150.161.20 ',\n",
       " ' logname= uid=0 euid=0 tty=ssh ruser= rhost=219.150.161.20 ',\n",
       " ' logname= uid=0 euid=0 tty=ssh ruser= rhost=58.17.30.49  user=root',\n",
       " ' logname= uid=0 euid=0 tty=ssh ruser= rhost=219.150.161.20  user=root',\n",
       " ' logname= uid=0 euid=0 tty=ssh ruser= rhost=219.150.161.20 ',\n",
       " ' logname= uid=0 euid=0 tty=ssh ruser= rhost=219.150.161.20 ',\n",
       " ' logname= uid=0 euid=0 tty=ssh ruser= rhost=219.150.161.20 ',\n",
       " ' logname= uid=0 euid=0 tty=ssh ruser= rhost=219.150.161.20 ',\n",
       " ' logname= uid=0 euid=0 tty=ssh ruser= rhost=219.150.161.20 ',\n",
       " ' logname= uid=0 euid=0 tty=ssh ruser= rhost=219.150.161.20  user=root',\n",
       " ' logname= uid=0 euid=0 tty=ssh ruser= rhost=58.17.30.49  user=root',\n",
       " ' logname= uid=0 euid=0 tty=ssh ruser= rhost=219.150.161.20 ',\n",
       " ' logname= uid=0 euid=0 tty=ssh ruser= rhost=219.150.161.20 ',\n",
       " ' logname= uid=0 euid=0 tty=ssh ruser= rhost=219.150.161.20 ',\n",
       " ' logname= uid=0 euid=0 tty=ssh ruser= rhost=219.150.161.20 ',\n",
       " ' logname= uid=0 euid=0 tty=ssh ruser= rhost=219.150.161.20 ',\n",
       " ' logname= uid=0 euid=0 tty=ssh ruser= rhost=219.150.161.20 ',\n",
       " ' logname= uid=0 euid=0 tty=ssh ruser= rhost=219.150.161.20  user=root',\n",
       " ' logname= uid=0 euid=0 tty=ssh ruser= rhost=219.150.161.20  user=root',\n",
       " ' logname= uid=0 euid=0 tty=ssh ruser= rhost=219.150.161.20 ',\n",
       " ' logname= uid=0 euid=0 tty=ssh ruser= rhost=219.150.161.20 ',\n",
       " ' logname= uid=0 euid=0 tty=ssh ruser= rhost=219.150.161.20 ',\n",
       " ' logname= uid=0 euid=0 tty=ssh ruser= rhost=58.17.30.49  user=root',\n",
       " ' logname= uid=0 euid=0 tty=ssh ruser= rhost=219.150.161.20  user=root',\n",
       " ' logname= uid=0 euid=0 tty=ssh ruser= rhost=219.150.161.20  user=root',\n",
       " ' logname= uid=0 euid=0 tty=ssh ruser= rhost=219.150.161.20 ',\n",
       " ' logname= uid=0 euid=0 tty=ssh ruser= rhost=219.150.161.20  user=root',\n",
       " ' logname= uid=0 euid=0 tty=ssh ruser= rhost=219.150.161.20 ',\n",
       " ' logname= uid=0 euid=0 tty=ssh ruser= rhost=219.150.161.20 ',\n",
       " ' logname= uid=0 euid=0 tty=ssh ruser= rhost=219.150.161.20 ',\n",
       " ' logname= uid=0 euid=0 tty=ssh ruser= rhost=219.150.161.20 ',\n",
       " ' logname= uid=0 euid=0 tty=ssh ruser= rhost=58.17.30.49 ',\n",
       " ' logname= uid=0 euid=0 tty=ssh ruser= rhost=219.150.161.20  user=root',\n",
       " ' logname= uid=0 euid=0 tty=ssh ruser= rhost=219.150.161.20  user=root',\n",
       " ' logname= uid=0 euid=0 tty=ssh ruser= rhost=219.150.161.20 ',\n",
       " ' logname= uid=0 euid=0 tty=ssh ruser= rhost=219.150.161.20  user=root',\n",
       " ' logname= uid=0 euid=0 tty=ssh ruser= rhost=219.150.161.20 ',\n",
       " ' logname= uid=0 euid=0 tty=ssh ruser= rhost=219.150.161.20 ',\n",
       " ' logname= uid=0 euid=0 tty=ssh ruser= rhost=219.150.161.20 ',\n",
       " ' logname= uid=0 euid=0 tty=ssh ruser= rhost=219.150.161.20 ',\n",
       " ' logname= uid=0 euid=0 tty=ssh ruser= rhost=58.17.30.49 ',\n",
       " ' logname= uid=0 euid=0 tty=ssh ruser= rhost=219.150.161.20  user=root',\n",
       " ' logname= uid=0 euid=0 tty=ssh ruser= rhost=219.150.161.20  user=root',\n",
       " ' logname= uid=0 euid=0 tty=ssh ruser= rhost=219.150.161.20 ',\n",
       " ' logname= uid=0 euid=0 tty=ssh ruser= rhost=219.150.161.20  user=root',\n",
       " ' logname= uid=0 euid=0 tty=ssh ruser= rhost=219.150.161.20  user=root',\n",
       " ' logname= uid=0 euid=0 tty=ssh ruser= rhost=219.150.161.20 ',\n",
       " ' logname= uid=0 euid=0 tty=ssh ruser= rhost=219.150.161.20 ',\n",
       " ' logname= uid=0 euid=0 tty=ssh ruser= rhost=219.150.161.20  user=mysql',\n",
       " ' logname= uid=0 euid=0 tty=ssh ruser= rhost=219.150.161.20  user=root',\n",
       " ' logname= uid=0 euid=0 tty=ssh ruser= rhost=58.17.30.49 ',\n",
       " ' logname= uid=0 euid=0 tty=ssh ruser= rhost=219.150.161.20 ',\n",
       " ' logname= uid=0 euid=0 tty=ssh ruser= rhost=219.150.161.20  user=root',\n",
       " ' logname= uid=0 euid=0 tty=ssh ruser= rhost=219.150.161.20  user=root',\n",
       " ' logname= uid=0 euid=0 tty=ssh ruser= rhost=219.150.161.20  user=root',\n",
       " ' logname= uid=0 euid=0 tty=ssh ruser= rhost=219.150.161.20 ',\n",
       " ' logname= uid=0 euid=0 tty=ssh ruser= rhost=219.150.161.20 ',\n",
       " ' logname= uid=0 euid=0 tty=ssh ruser= rhost=219.150.161.20 ',\n",
       " ' logname= uid=0 euid=0 tty=ssh ruser= rhost=219.150.161.20  user=root',\n",
       " ' logname= uid=0 euid=0 tty=ssh ruser= rhost=219.150.161.20  user=root',\n",
       " ' logname= uid=0 euid=0 tty=ssh ruser= rhost=219.150.161.20  user=root',\n",
       " ' logname= uid=0 euid=0 tty=ssh ruser= rhost=219.150.161.20 ',\n",
       " ' logname= uid=0 euid=0 tty=ssh ruser= rhost=219.150.161.20  user=root',\n",
       " ' logname= uid=0 euid=0 tty=ssh ruser= rhost=219.150.161.20 ',\n",
       " ' logname= uid=0 euid=0 tty=ssh ruser= rhost=219.150.161.20 ',\n",
       " ' logname= uid=0 euid=0 tty=ssh ruser= rhost=219.150.161.20 ',\n",
       " ' logname= uid=0 euid=0 tty=ssh ruser= rhost=58.17.30.49 ',\n",
       " ' logname= uid=0 euid=0 tty=ssh ruser= rhost=219.150.161.20 ',\n",
       " ' logname= uid=0 euid=0 tty=ssh ruser= rhost=219.150.161.20  user=root',\n",
       " ' logname= uid=0 euid=0 tty=ssh ruser= rhost=219.150.161.20 ',\n",
       " ' logname= uid=0 euid=0 tty=ssh ruser= rhost=219.150.161.20 ',\n",
       " ' logname= uid=0 euid=0 tty=ssh ruser= rhost=219.150.161.20  user=root',\n",
       " ' logname= uid=0 euid=0 tty=ssh ruser= rhost=219.150.161.20  user=root',\n",
       " ' logname= uid=0 euid=0 tty=ssh ruser= rhost=219.150.161.20 ',\n",
       " ' logname= uid=0 euid=0 tty=ssh ruser= rhost=219.150.161.20 ',\n",
       " ' logname= uid=0 euid=0 tty=ssh ruser= rhost=219.150.161.20 ',\n",
       " ' logname= uid=0 euid=0 tty=ssh ruser= rhost=58.17.30.49  user=root',\n",
       " ' logname= uid=0 euid=0 tty=ssh ruser= rhost=219.150.161.20 ',\n",
       " ' logname= uid=0 euid=0 tty=ssh ruser= rhost=219.150.161.20  user=root',\n",
       " ' logname= uid=0 euid=0 tty=ssh ruser= rhost=219.150.161.20 ',\n",
       " ' logname= uid=0 euid=0 tty=ssh ruser= rhost=219.150.161.20 ',\n",
       " ' logname= uid=0 euid=0 tty=ssh ruser= rhost=219.150.161.20 ',\n",
       " ' logname= uid=0 euid=0 tty=ssh ruser= rhost=219.150.161.20  user=root',\n",
       " ' logname= uid=0 euid=0 tty=ssh ruser= rhost=219.150.161.20 ',\n",
       " ' logname= uid=0 euid=0 tty=ssh ruser= rhost=219.150.161.20 ',\n",
       " ' logname= uid=0 euid=0 tty=ssh ruser= rhost=219.150.161.20  user=root',\n",
       " ' logname= uid=0 euid=0 tty=ssh ruser= rhost=219.150.161.20 ',\n",
       " ' logname= uid=0 euid=0 tty=ssh ruser= rhost=219.150.161.20 ',\n",
       " ' logname= uid=0 euid=0 tty=ssh ruser= rhost=219.150.161.20  user=root',\n",
       " ' logname= uid=0 euid=0 tty=ssh ruser= rhost=219.150.161.20 ',\n",
       " ' logname= uid=0 euid=0 tty=ssh ruser= rhost=219.150.161.20 ',\n",
       " ' logname= uid=0 euid=0 tty=ssh ruser= rhost=219.150.161.20  user=root',\n",
       " ' logname= uid=0 euid=0 tty=ssh ruser= rhost=219.150.161.20 ',\n",
       " ' logname= uid=0 euid=0 tty=ssh ruser= rhost=219.150.161.20 ',\n",
       " ' logname= uid=0 euid=0 tty=ssh ruser= rhost=219.150.161.20  user=root',\n",
       " ' logname= uid=0 euid=0 tty=ssh ruser= rhost=219.150.161.20 ',\n",
       " ' logname= uid=0 euid=0 tty=ssh ruser= rhost=219.150.161.20 ',\n",
       " ' logname= uid=0 euid=0 tty=ssh ruser= rhost=219.150.161.20 ',\n",
       " ' logname= uid=0 euid=0 tty=ssh ruser= rhost=219.150.161.20  user=root',\n",
       " ' logname= uid=0 euid=0 tty=ssh ruser= rhost=219.150.161.20 ',\n",
       " ' logname= uid=0 euid=0 tty=ssh ruser= rhost=219.150.161.20 ',\n",
       " ' logname= uid=0 euid=0 tty=ssh ruser= rhost=219.150.161.20 ',\n",
       " ' logname= uid=0 euid=0 tty=ssh ruser= rhost=219.150.161.20 ',\n",
       " ' logname= uid=0 euid=0 tty=ssh ruser= rhost=219.150.161.20  user=root',\n",
       " ' logname= uid=0 euid=0 tty=ssh ruser= rhost=219.150.161.20  user=root',\n",
       " ' logname= uid=0 euid=0 tty=ssh ruser= rhost=219.150.161.20 ',\n",
       " ' logname= uid=0 euid=0 tty=ssh ruser= rhost=219.150.161.20 ',\n",
       " ' logname= uid=0 euid=0 tty=ssh ruser= rhost=219.150.161.20 ',\n",
       " ' logname= uid=0 euid=0 tty=ssh ruser= rhost=219.150.161.20 ',\n",
       " ' logname= uid=0 euid=0 tty=ssh ruser= rhost=219.150.161.20  user=root',\n",
       " ' logname= uid=0 euid=0 tty=ssh ruser= rhost=219.150.161.20 ',\n",
       " ' logname= uid=0 euid=0 tty=ssh ruser= rhost=219.150.161.20 ',\n",
       " ' logname= uid=0 euid=0 tty=ssh ruser= rhost=219.150.161.20 ',\n",
       " ' logname= uid=0 euid=0 tty=ssh ruser= rhost=219.150.161.20 ',\n",
       " ' logname= uid=0 euid=0 tty=ssh ruser= rhost=219.150.161.20  user=root',\n",
       " ' logname= uid=0 euid=0 tty=ssh ruser= rhost=219.150.161.20  user=root',\n",
       " ' logname= uid=0 euid=0 tty=ssh ruser= rhost=219.150.161.20 ',\n",
       " ' logname= uid=0 euid=0 tty=ssh ruser= rhost=219.150.161.20 ',\n",
       " ' logname= uid=0 euid=0 tty=ssh ruser= rhost=219.150.161.20  user=root',\n",
       " ' logname= uid=0 euid=0 tty=ssh ruser= rhost=219.150.161.20 ',\n",
       " ' logname= uid=0 euid=0 tty=ssh ruser= rhost=219.150.161.20 ',\n",
       " ' logname= uid=0 euid=0 tty=ssh ruser= rhost=219.150.161.20 ',\n",
       " ' logname= uid=0 euid=0 tty=ssh ruser= rhost=219.150.161.20  user=root',\n",
       " ' logname= uid=0 euid=0 tty=ssh ruser= rhost=219.150.161.20 ',\n",
       " ' logname= uid=0 euid=0 tty=ssh ruser= rhost=219.150.161.20  user=root',\n",
       " ' logname= uid=0 euid=0 tty=ssh ruser= rhost=219.150.161.20  user=root',\n",
       " ' logname= uid=0 euid=0 tty=ssh ruser= rhost=219.150.161.20 ',\n",
       " ' logname= uid=0 euid=0 tty=ssh ruser= rhost=219.150.161.20 ',\n",
       " ' logname= uid=0 euid=0 tty=ssh ruser= rhost=219.150.161.20  user=root',\n",
       " ' logname= uid=0 euid=0 tty=ssh ruser= rhost=219.150.161.20 ',\n",
       " ' logname= uid=0 euid=0 tty=ssh ruser= rhost=219.150.161.20 ',\n",
       " ' logname= uid=0 euid=0 tty=ssh ruser= rhost=219.150.161.20 ',\n",
       " ' logname= uid=0 euid=0 tty=ssh ruser= rhost=219.150.161.20  user=root',\n",
       " ' logname= uid=0 euid=0 tty=ssh ruser= rhost=219.150.161.20 ',\n",
       " ' logname= uid=0 euid=0 tty=ssh ruser= rhost=219.150.161.20  user=root',\n",
       " ' logname= uid=0 euid=0 tty=ssh ruser= rhost=219.150.161.20  user=root',\n",
       " ' logname= uid=0 euid=0 tty=ssh ruser= rhost=219.150.161.20  user=root',\n",
       " ' logname= uid=0 euid=0 tty=ssh ruser= rhost=219.150.161.20 ',\n",
       " ' logname= uid=0 euid=0 tty=ssh ruser= rhost=219.150.161.20  user=root',\n",
       " ' logname= uid=0 euid=0 tty=ssh ruser= rhost=219.150.161.20 ',\n",
       " ' logname= uid=0 euid=0 tty=ssh ruser= rhost=219.150.161.20 ',\n",
       " ' logname= uid=0 euid=0 tty=ssh ruser= rhost=219.150.161.20 ',\n",
       " ' logname= uid=0 euid=0 tty=ssh ruser= rhost=219.150.161.20  user=root',\n",
       " ' logname= uid=0 euid=0 tty=ssh ruser= rhost=219.150.161.20 ',\n",
       " ' logname= uid=0 euid=0 tty=ssh ruser= rhost=219.150.161.20  user=root',\n",
       " ' logname= uid=0 euid=0 tty=ssh ruser= rhost=219.150.161.20  user=root',\n",
       " ' logname= uid=0 euid=0 tty=ssh ruser= rhost=219.150.161.20  user=root',\n",
       " ' logname= uid=0 euid=0 tty=ssh ruser= rhost=219.150.161.20 ',\n",
       " ' logname= uid=0 euid=0 tty=ssh ruser= rhost=219.150.161.20  user=root',\n",
       " ' logname= uid=0 euid=0 tty=ssh ruser= rhost=219.150.161.20 ',\n",
       " ' logname= uid=0 euid=0 tty=ssh ruser= rhost=219.150.161.20 ',\n",
       " ' logname= uid=0 euid=0 tty=ssh ruser= rhost=219.150.161.20 ',\n",
       " ' logname= uid=0 euid=0 tty=ssh ruser= rhost=219.150.161.20  user=root',\n",
       " ' logname= uid=0 euid=0 tty=ssh ruser= rhost=219.150.161.20  user=root',\n",
       " ' logname= uid=0 euid=0 tty=ssh ruser= rhost=219.150.161.20  user=root',\n",
       " ' logname= uid=0 euid=0 tty=ssh ruser= rhost=219.150.161.20  user=root',\n",
       " ' logname= uid=0 euid=0 tty=ssh ruser= rhost=219.150.161.20  user=root',\n",
       " ' logname= uid=0 euid=0 tty=ssh ruser= rhost=219.150.161.20 ',\n",
       " ' logname= uid=0 euid=0 tty=ssh ruser= rhost=219.150.161.20  user=root',\n",
       " ' logname= uid=0 euid=0 tty=ssh ruser= rhost=219.150.161.20 ',\n",
       " ' logname= uid=0 euid=0 tty=ssh ruser= rhost=219.150.161.20 ',\n",
       " ' logname= uid=0 euid=0 tty=ssh ruser= rhost=219.150.161.20 ',\n",
       " ' logname= uid=0 euid=0 tty=ssh ruser= rhost=219.150.161.20  user=root',\n",
       " ' logname= uid=0 euid=0 tty=ssh ruser= rhost=219.150.161.20  user=root',\n",
       " ' logname= uid=0 euid=0 tty=ssh ruser= rhost=219.150.161.20  user=root',\n",
       " ' logname= uid=0 euid=0 tty=ssh ruser= rhost=219.150.161.20  user=root',\n",
       " ' logname= uid=0 euid=0 tty=ssh ruser= rhost=219.150.161.20  user=root',\n",
       " ' logname= uid=0 euid=0 tty=ssh ruser= rhost=219.150.161.20 ',\n",
       " ' logname= uid=0 euid=0 tty=ssh ruser= rhost=219.150.161.20  user=mysql',\n",
       " ' logname= uid=0 euid=0 tty=ssh ruser= rhost=219.150.161.20  user=root',\n",
       " ' logname= uid=0 euid=0 tty=ssh ruser= rhost=219.150.161.20 ',\n",
       " ' logname= uid=0 euid=0 tty=ssh ruser= rhost=219.150.161.20 ',\n",
       " ' logname= uid=0 euid=0 tty=ssh ruser= rhost=219.150.161.20  user=root',\n",
       " ' logname= uid=0 euid=0 tty=ssh ruser= rhost=219.150.161.20  user=root',\n",
       " ' logname= uid=0 euid=0 tty=ssh ruser= rhost=219.150.161.20  user=root',\n",
       " ' logname= uid=0 euid=0 tty=ssh ruser= rhost=219.150.161.20  user=root',\n",
       " ' logname= uid=0 euid=0 tty=ssh ruser= rhost=219.150.161.20  user=root',\n",
       " ' logname= uid=0 euid=0 tty=ssh ruser= rhost=219.150.161.20 ',\n",
       " ' logname= uid=0 euid=0 tty=ssh ruser= rhost=219.150.161.20 ',\n",
       " ' logname= uid=0 euid=0 tty=ssh ruser= rhost=219.150.161.20  user=root',\n",
       " ' logname= uid=0 euid=0 tty=ssh ruser= rhost=219.150.161.20  user=root',\n",
       " ' logname= uid=0 euid=0 tty=ssh ruser= rhost=219.150.161.20 ',\n",
       " ' logname= uid=0 euid=0 tty=ssh ruser= rhost=219.150.161.20 ',\n",
       " ' logname= uid=0 euid=0 tty=ssh ruser= rhost=219.150.161.20  user=root',\n",
       " ' logname= uid=0 euid=0 tty=ssh ruser= rhost=219.150.161.20 ',\n",
       " ' logname= uid=0 euid=0 tty=ssh ruser= rhost=219.150.161.20  user=root',\n",
       " ' logname= uid=0 euid=0 tty=ssh ruser= rhost=219.150.161.20 ',\n",
       " ' logname= uid=0 euid=0 tty=ssh ruser= rhost=219.150.161.20 ',\n",
       " ' logname= uid=0 euid=0 tty=ssh ruser= rhost=219.150.161.20 ',\n",
       " ' logname= uid=0 euid=0 tty=ssh ruser= rhost=219.150.161.20  user=root',\n",
       " ' logname= uid=0 euid=0 tty=ssh ruser= rhost=219.150.161.20 ',\n",
       " ' logname= uid=0 euid=0 tty=ssh ruser= rhost=219.150.161.20  user=root',\n",
       " ' logname= uid=0 euid=0 tty=ssh ruser= rhost=219.150.161.20 ',\n",
       " ' logname= uid=0 euid=0 tty=ssh ruser= rhost=219.150.161.20 ',\n",
       " ' logname= uid=0 euid=0 tty=ssh ruser= rhost=219.150.161.20  user=root',\n",
       " ' logname= uid=0 euid=0 tty=ssh ruser= rhost=219.150.161.20  user=root',\n",
       " ' logname= uid=0 euid=0 tty=ssh ruser= rhost=219.150.161.20  user=root',\n",
       " ' logname= uid=0 euid=0 tty=ssh ruser= rhost=219.150.161.20 ',\n",
       " ' logname= uid=0 euid=0 tty=ssh ruser= rhost=219.150.161.20 ',\n",
       " ' logname= uid=0 euid=0 tty=ssh ruser= rhost=219.150.161.20  user=root',\n",
       " ' logname= uid=0 euid=0 tty=ssh ruser= rhost=219.150.161.20 ',\n",
       " ' logname= uid=0 euid=0 tty=ssh ruser= rhost=219.150.161.20  user=root',\n",
       " ' logname= uid=0 euid=0 tty=ssh ruser= rhost=219.150.161.20  user=root',\n",
       " ' logname= uid=0 euid=0 tty=ssh ruser= rhost=219.150.161.20  user=root',\n",
       " ' logname= uid=0 euid=0 tty=ssh ruser= rhost=219.150.161.20 ',\n",
       " ' logname= uid=0 euid=0 tty=ssh ruser= rhost=219.150.161.20 ',\n",
       " ' logname= uid=0 euid=0 tty=ssh ruser= rhost=219.150.161.20  user=root',\n",
       " ' logname= uid=0 euid=0 tty=ssh ruser= rhost=219.150.161.20 ',\n",
       " ' logname= uid=0 euid=0 tty=ssh ruser= rhost=219.150.161.20 ',\n",
       " ' logname= uid=0 euid=0 tty=ssh ruser= rhost=219.150.161.20  user=root',\n",
       " ' logname= uid=0 euid=0 tty=ssh ruser= rhost=219.150.161.20 ',\n",
       " ' logname= uid=0 euid=0 tty=ssh ruser= rhost=219.150.161.20  user=root',\n",
       " ' logname= uid=0 euid=0 tty=ssh ruser= rhost=219.150.161.20  user=root',\n",
       " ' logname= uid=0 euid=0 tty=ssh ruser= rhost=219.150.161.20  user=root',\n",
       " ' logname= uid=0 euid=0 tty=ssh ruser= rhost=219.150.161.20 ',\n",
       " ' logname= uid=0 euid=0 tty=ssh ruser= rhost=219.150.161.20 ',\n",
       " ' logname= uid=0 euid=0 tty=ssh ruser= rhost=219.150.161.20  user=root',\n",
       " ' logname= uid=0 euid=0 tty=ssh ruser= rhost=219.150.161.20 ',\n",
       " ' logname= uid=0 euid=0 tty=ssh ruser= rhost=219.150.161.20 ',\n",
       " ' logname= uid=0 euid=0 tty=ssh ruser= rhost=219.150.161.20  user=root',\n",
       " ' logname= uid=0 euid=0 tty=ssh ruser= rhost=219.150.161.20 ',\n",
       " ' logname= uid=0 euid=0 tty=ssh ruser= rhost=219.150.161.20  user=root',\n",
       " ' logname= uid=0 euid=0 tty=ssh ruser= rhost=219.150.161.20  user=root',\n",
       " ' logname= uid=0 euid=0 tty=ssh ruser= rhost=219.150.161.20  user=root',\n",
       " ' logname= uid=0 euid=0 tty=ssh ruser= rhost=219.150.161.20 ',\n",
       " ' logname= uid=0 euid=0 tty=ssh ruser= rhost=219.150.161.20 ',\n",
       " ' logname= uid=0 euid=0 tty=ssh ruser= rhost=219.150.161.20 ',\n",
       " ' logname= uid=0 euid=0 tty=ssh ruser= rhost=219.150.161.20 ',\n",
       " ' logname= uid=0 euid=0 tty=ssh ruser= rhost=219.150.161.20 ',\n",
       " ' logname= uid=0 euid=0 tty=ssh ruser= rhost=219.150.161.20  user=root',\n",
       " ' logname= uid=0 euid=0 tty=ssh ruser= rhost=219.150.161.20  user=root',\n",
       " ' logname= uid=0 euid=0 tty=ssh ruser= rhost=219.150.161.20 ',\n",
       " ' logname= uid=0 euid=0 tty=ssh ruser= rhost=219.150.161.20 ',\n",
       " ' logname= uid=0 euid=0 tty=ssh ruser= rhost=219.150.161.20 ',\n",
       " ' logname= uid=0 euid=0 tty=ssh ruser= rhost=219.150.161.20  user=root',\n",
       " ' logname= uid=0 euid=0 tty=ssh ruser= rhost=219.150.161.20  user=root',\n",
       " ' logname= uid=0 euid=0 tty=ssh ruser= rhost=219.150.161.20 ',\n",
       " ' logname= uid=0 euid=0 tty=ssh ruser= rhost=219.150.161.20 ',\n",
       " ' logname= uid=0 euid=0 tty=ssh ruser= rhost=219.150.161.20 ',\n",
       " ' logname= uid=0 euid=0 tty=ssh ruser= rhost=219.150.161.20  user=root',\n",
       " ' logname= uid=0 euid=0 tty=ssh ruser= rhost=219.150.161.20  user=root',\n",
       " ' logname= uid=0 euid=0 tty=ssh ruser= rhost=219.150.161.20 ',\n",
       " ' logname= uid=0 euid=0 tty=ssh ruser= rhost=219.150.161.20 ',\n",
       " ' logname= uid=0 euid=0 tty=ssh ruser= rhost=219.150.161.20 ',\n",
       " ' logname= uid=0 euid=0 tty=ssh ruser= rhost=219.150.161.20 ',\n",
       " ' logname= uid=0 euid=0 tty=ssh ruser= rhost=219.150.161.20  user=root',\n",
       " ' logname= uid=0 euid=0 tty=ssh ruser= rhost=219.150.161.20  user=root',\n",
       " ' logname= uid=0 euid=0 tty=ssh ruser= rhost=219.150.161.20 ',\n",
       " ' logname= uid=0 euid=0 tty=ssh ruser= rhost=219.150.161.20 ',\n",
       " ' logname= uid=0 euid=0 tty=ssh ruser= rhost=219.150.161.20  user=root',\n",
       " ' logname= uid=0 euid=0 tty=ssh ruser= rhost=219.150.161.20 ',\n",
       " ' logname= uid=0 euid=0 tty=ssh ruser= rhost=219.150.161.20 ',\n",
       " ' logname= uid=0 euid=0 tty=ssh ruser= rhost=219.150.161.20  user=root',\n",
       " ' logname= uid=0 euid=0 tty=ssh ruser= rhost=219.150.161.20  user=root',\n",
       " ' logname= uid=0 euid=0 tty=ssh ruser= rhost=219.150.161.20 ',\n",
       " ' logname= uid=0 euid=0 tty=ssh ruser= rhost=219.150.161.20  user=root',\n",
       " ' logname= uid=0 euid=0 tty=ssh ruser= rhost=219.150.161.20 ',\n",
       " ' logname= uid=0 euid=0 tty=ssh ruser= rhost=219.150.161.20  user=root',\n",
       " ' logname= uid=0 euid=0 tty=ssh ruser= rhost=219.150.161.20 ',\n",
       " ' logname= uid=0 euid=0 tty=ssh ruser= rhost=219.150.161.20  user=root',\n",
       " ' logname= uid=0 euid=0 tty=ssh ruser= rhost=219.150.161.20  user=root',\n",
       " ' logname= uid=0 euid=0 tty=ssh ruser= rhost=219.150.161.20 ',\n",
       " ' logname= uid=0 euid=0 tty=ssh ruser= rhost=219.150.161.20 ',\n",
       " ' logname= uid=0 euid=0 tty=ssh ruser= rhost=219.150.161.20  user=root',\n",
       " ' logname= uid=0 euid=0 tty=ssh ruser= rhost=219.150.161.20  user=root',\n",
       " ' logname= uid=0 euid=0 tty=ssh ruser= rhost=219.150.161.20 ',\n",
       " ' logname= uid=0 euid=0 tty=ssh ruser= rhost=219.150.161.20 ',\n",
       " ' logname= uid=0 euid=0 tty=ssh ruser= rhost=219.150.161.20  user=root',\n",
       " ' logname= uid=0 euid=0 tty=ssh ruser= rhost=219.150.161.20 ',\n",
       " ' logname= uid=0 euid=0 tty=ssh ruser= rhost=219.150.161.20  user=root',\n",
       " ' logname= uid=0 euid=0 tty=ssh ruser= rhost=219.150.161.20  user=root',\n",
       " ' logname= uid=0 euid=0 tty=ssh ruser= rhost=219.150.161.20 ',\n",
       " ' logname= uid=0 euid=0 tty=ssh ruser= rhost=219.150.161.20 ',\n",
       " ' logname= uid=0 euid=0 tty=ssh ruser= rhost=219.150.161.20  user=root',\n",
       " ' logname= uid=0 euid=0 tty=ssh ruser= rhost=219.150.161.20 ',\n",
       " ' logname= uid=0 euid=0 tty=ssh ruser= rhost=219.150.161.20  user=root',\n",
       " ' logname= uid=0 euid=0 tty=ssh ruser= rhost=219.150.161.20 ',\n",
       " ' logname= uid=0 euid=0 tty=ssh ruser= rhost=219.150.161.20  user=root',\n",
       " ' logname= uid=0 euid=0 tty=ssh ruser= rhost=219.150.161.20 ',\n",
       " ' logname= uid=0 euid=0 tty=ssh ruser= rhost=219.150.161.20 ',\n",
       " ' logname= uid=0 euid=0 tty=ssh ruser= rhost=219.150.161.20 ',\n",
       " ' logname= uid=0 euid=0 tty=ssh ruser= rhost=219.150.161.20  user=root',\n",
       " ' logname= uid=0 euid=0 tty=ssh ruser= rhost=219.150.161.20  user=root',\n",
       " ' logname= uid=0 euid=0 tty=ssh ruser= rhost=219.150.161.20  user=root',\n",
       " ' logname= uid=0 euid=0 tty=ssh ruser= rhost=219.150.161.20 ',\n",
       " ' logname= uid=0 euid=0 tty=ssh ruser= rhost=219.150.161.20  user=root',\n",
       " ' logname= uid=0 euid=0 tty=ssh ruser= rhost=219.150.161.20 ',\n",
       " ' logname= uid=0 euid=0 tty=ssh ruser= rhost=219.150.161.20  user=root',\n",
       " ' logname= uid=0 euid=0 tty=ssh ruser= rhost=219.150.161.20 ',\n",
       " ' logname= uid=0 euid=0 tty=ssh ruser= rhost=219.150.161.20 ',\n",
       " ' logname= uid=0 euid=0 tty=ssh ruser= rhost=219.150.161.20  user=root',\n",
       " ' logname= uid=0 euid=0 tty=ssh ruser= rhost=219.150.161.20  user=root',\n",
       " ' logname= uid=0 euid=0 tty=ssh ruser= rhost=219.150.161.20  user=root',\n",
       " ' logname= uid=0 euid=0 tty=ssh ruser= rhost=219.150.161.20 ',\n",
       " ' logname= uid=0 euid=0 tty=ssh ruser= rhost=219.150.161.20 ',\n",
       " ' logname= uid=0 euid=0 tty=ssh ruser= rhost=219.150.161.20  user=root',\n",
       " ' logname= uid=0 euid=0 tty=ssh ruser= rhost=219.150.161.20 ',\n",
       " ' logname= uid=0 euid=0 tty=ssh ruser= rhost=219.150.161.20  user=root',\n",
       " ' logname= uid=0 euid=0 tty=ssh ruser= rhost=219.150.161.20 ',\n",
       " ' logname= uid=0 euid=0 tty=ssh ruser= rhost=219.150.161.20 ',\n",
       " ' logname= uid=0 euid=0 tty=ssh ruser= rhost=219.150.161.20  user=root',\n",
       " ' logname= uid=0 euid=0 tty=ssh ruser= rhost=219.150.161.20 ',\n",
       " ' logname= uid=0 euid=0 tty=ssh ruser= rhost=219.150.161.20  user=root',\n",
       " ' logname= uid=0 euid=0 tty=ssh ruser= rhost=219.150.161.20 ',\n",
       " ' logname= uid=0 euid=0 tty=ssh ruser= rhost=219.150.161.20  user=root',\n",
       " ' logname= uid=0 euid=0 tty=ssh ruser= rhost=219.150.161.20 ',\n",
       " ' logname= uid=0 euid=0 tty=ssh ruser= rhost=219.150.161.20  user=root',\n",
       " ' logname= uid=0 euid=0 tty=ssh ruser= rhost=219.150.161.20  user=root',\n",
       " ' logname= uid=0 euid=0 tty=ssh ruser= rhost=219.150.161.20 ',\n",
       " ' logname= uid=0 euid=0 tty=ssh ruser= rhost=219.150.161.20 ',\n",
       " ' logname= uid=0 euid=0 tty=ssh ruser= rhost=219.150.161.20 ',\n",
       " ' logname= uid=0 euid=0 tty=ssh ruser= rhost=219.150.161.20  user=root',\n",
       " ' logname= uid=0 euid=0 tty=ssh ruser= rhost=219.150.161.20  user=root',\n",
       " ' logname= uid=0 euid=0 tty=ssh ruser= rhost=219.150.161.20 ',\n",
       " ' logname= uid=0 euid=0 tty=ssh ruser= rhost=219.150.161.20  user=root',\n",
       " ' logname= uid=0 euid=0 tty=ssh ruser= rhost=219.150.161.20 ',\n",
       " ' logname= uid=0 euid=0 tty=ssh ruser= rhost=219.150.161.20  user=root',\n",
       " ' logname= uid=0 euid=0 tty=ssh ruser= rhost=219.150.161.20  user=root',\n",
       " ' logname= uid=0 euid=0 tty=ssh ruser= rhost=219.150.161.20 ',\n",
       " ' logname= uid=0 euid=0 tty=ssh ruser= rhost=219.150.161.20 ',\n",
       " ' logname= uid=0 euid=0 tty=ssh ruser= rhost=219.150.161.20  user=root',\n",
       " ' logname= uid=0 euid=0 tty=ssh ruser= rhost=219.150.161.20  user=root',\n",
       " ' logname= uid=0 euid=0 tty=ssh ruser= rhost=219.150.161.20 ',\n",
       " ' logname= uid=0 euid=0 tty=ssh ruser= rhost=219.150.161.20 ',\n",
       " ' logname= uid=0 euid=0 tty=ssh ruser= rhost=219.150.161.20  user=root',\n",
       " ' logname= uid=0 euid=0 tty=ssh ruser= rhost=219.150.161.20 ',\n",
       " ' logname= uid=0 euid=0 tty=ssh ruser= rhost=219.150.161.20  user=root',\n",
       " ' logname= uid=0 euid=0 tty=ssh ruser= rhost=219.150.161.20 ',\n",
       " ' logname= uid=0 euid=0 tty=ssh ruser= rhost=219.150.161.20 ',\n",
       " ' logname= uid=0 euid=0 tty=ssh ruser= rhost=219.150.161.20 ',\n",
       " ' logname= uid=0 euid=0 tty=ssh ruser= rhost=219.150.161.20 ',\n",
       " ' logname= uid=0 euid=0 tty=ssh ruser= rhost=219.150.161.20  user=root',\n",
       " ' logname= uid=0 euid=0 tty=ssh ruser= rhost=219.150.161.20 ',\n",
       " ' logname= uid=0 euid=0 tty=ssh ruser= rhost=219.150.161.20  user=root',\n",
       " ' logname= uid=0 euid=0 tty=ssh ruser= rhost=219.150.161.20  user=root',\n",
       " ' logname= uid=0 euid=0 tty=ssh ruser= rhost=219.150.161.20 ',\n",
       " ' logname= uid=0 euid=0 tty=ssh ruser= rhost=219.150.161.20  user=root',\n",
       " ' logname= uid=0 euid=0 tty=ssh ruser= rhost=219.150.161.20 ',\n",
       " ' logname= uid=0 euid=0 tty=ssh ruser= rhost=219.150.161.20 ',\n",
       " ' logname= uid=0 euid=0 tty=ssh ruser= rhost=219.150.161.20 ',\n",
       " ' logname= uid=0 euid=0 tty=ssh ruser= rhost=219.150.161.20 ',\n",
       " ' logname= uid=0 euid=0 tty=ssh ruser= rhost=219.150.161.20  user=root',\n",
       " ' logname= uid=0 euid=0 tty=ssh ruser= rhost=219.150.161.20 ',\n",
       " ' logname= uid=0 euid=0 tty=ssh ruser= rhost=219.150.161.20  user=root',\n",
       " ' logname= uid=0 euid=0 tty=ssh ruser= rhost=219.150.161.20  user=root',\n",
       " ' logname= uid=0 euid=0 tty=ssh ruser= rhost=219.150.161.20 ',\n",
       " ' logname= uid=0 euid=0 tty=ssh ruser= rhost=219.150.161.20  user=root',\n",
       " ' logname= uid=0 euid=0 tty=ssh ruser= rhost=219.150.161.20  user=root',\n",
       " ' logname= uid=0 euid=0 tty=ssh ruser= rhost=219.150.161.20 ',\n",
       " ' logname= uid=0 euid=0 tty=ssh ruser= rhost=219.150.161.20 ',\n",
       " ' logname= uid=0 euid=0 tty=ssh ruser= rhost=219.150.161.20 ',\n",
       " ' logname= uid=0 euid=0 tty=ssh ruser= rhost=219.150.161.20  user=root',\n",
       " ' logname= uid=0 euid=0 tty=ssh ruser= rhost=219.150.161.20  user=root',\n",
       " ' logname= uid=0 euid=0 tty=ssh ruser= rhost=219.150.161.20 ',\n",
       " ' logname= uid=0 euid=0 tty=ssh ruser= rhost=219.150.161.20  user=root',\n",
       " ' logname= uid=0 euid=0 tty=ssh ruser= rhost=219.150.161.20 ',\n",
       " ' logname= uid=0 euid=0 tty=ssh ruser= rhost=219.150.161.20  user=root',\n",
       " ' logname= uid=0 euid=0 tty=ssh ruser= rhost=219.150.161.20 ',\n",
       " ' logname= uid=0 euid=0 tty=ssh ruser= rhost=219.150.161.20  user=root',\n",
       " ' logname= uid=0 euid=0 tty=ssh ruser= rhost=219.150.161.20  user=root',\n",
       " ' logname= uid=0 euid=0 tty=ssh ruser= rhost=219.150.161.20 ',\n",
       " ' logname= uid=0 euid=0 tty=ssh ruser= rhost=219.150.161.20 ',\n",
       " ' logname= uid=0 euid=0 tty=ssh ruser= rhost=219.150.161.20 ',\n",
       " ' logname= uid=0 euid=0 tty=ssh ruser= rhost=219.150.161.20 ',\n",
       " ' logname= uid=0 euid=0 tty=ssh ruser= rhost=219.150.161.20 ',\n",
       " ' logname= uid=0 euid=0 tty=ssh ruser= rhost=219.150.161.20  user=root',\n",
       " ' logname= uid=0 euid=0 tty=ssh ruser= rhost=219.150.161.20  user=root',\n",
       " ' logname= uid=0 euid=0 tty=ssh ruser= rhost=219.150.161.20 ',\n",
       " ' logname= uid=0 euid=0 tty=ssh ruser= rhost=219.150.161.20  user=root',\n",
       " ' logname= uid=0 euid=0 tty=ssh ruser= rhost=219.150.161.20  user=root',\n",
       " ' logname= uid=0 euid=0 tty=ssh ruser= rhost=219.150.161.20 ',\n",
       " ' logname= uid=0 euid=0 tty=ssh ruser= rhost=219.150.161.20 ',\n",
       " ' logname= uid=0 euid=0 tty=ssh ruser= rhost=219.150.161.20 ',\n",
       " ' logname= uid=0 euid=0 tty=ssh ruser= rhost=219.150.161.20 ',\n",
       " ' logname= uid=0 euid=0 tty=ssh ruser= rhost=219.150.161.20 ',\n",
       " ' logname= uid=0 euid=0 tty=ssh ruser= rhost=219.150.161.20  user=root',\n",
       " ' logname= uid=0 euid=0 tty=ssh ruser= rhost=219.150.161.20  user=root',\n",
       " ' logname= uid=0 euid=0 tty=ssh ruser= rhost=219.150.161.20  user=root',\n",
       " ' logname= uid=0 euid=0 tty=ssh ruser= rhost=219.150.161.20  user=root',\n",
       " ' logname= uid=0 euid=0 tty=ssh ruser= rhost=219.150.161.20 ',\n",
       " ' logname= uid=0 euid=0 tty=ssh ruser= rhost=219.150.161.20  user=root',\n",
       " ' logname= uid=0 euid=0 tty=ssh ruser= rhost=219.150.161.20 ',\n",
       " ' logname= uid=0 euid=0 tty=ssh ruser= rhost=219.150.161.20 ',\n",
       " ' logname= uid=0 euid=0 tty=ssh ruser= rhost=219.150.161.20 ',\n",
       " ' logname= uid=0 euid=0 tty=ssh ruser= rhost=219.150.161.20  user=root',\n",
       " ' logname= uid=0 euid=0 tty=ssh ruser= rhost=219.150.161.20 ',\n",
       " ' logname= uid=0 euid=0 tty=ssh ruser= rhost=219.150.161.20  user=root',\n",
       " ' logname= uid=0 euid=0 tty=ssh ruser= rhost=219.150.161.20  user=root',\n",
       " ' logname= uid=0 euid=0 tty=ssh ruser= rhost=219.150.161.20  user=root',\n",
       " ' logname= uid=0 euid=0 tty=ssh ruser= rhost=219.150.161.20 ',\n",
       " ' logname= uid=0 euid=0 tty=ssh ruser= rhost=219.150.161.20  user=root',\n",
       " ' logname= uid=0 euid=0 tty=ssh ruser= rhost=219.150.161.20 ',\n",
       " ' logname= uid=0 euid=0 tty=ssh ruser= rhost=219.150.161.20 ',\n",
       " ' logname= uid=0 euid=0 tty=ssh ruser= rhost=219.150.161.20 ',\n",
       " ' logname= uid=0 euid=0 tty=ssh ruser= rhost=219.150.161.20  user=root',\n",
       " ' logname= uid=0 euid=0 tty=ssh ruser= rhost=219.150.161.20 ',\n",
       " ' logname= uid=0 euid=0 tty=ssh ruser= rhost=219.150.161.20  user=root',\n",
       " ' logname= uid=0 euid=0 tty=ssh ruser= rhost=219.150.161.20 ',\n",
       " ' logname= uid=0 euid=0 tty=ssh ruser= rhost=219.150.161.20  user=root',\n",
       " ' logname= uid=0 euid=0 tty=ssh ruser= rhost=219.150.161.20 ',\n",
       " ' logname= uid=0 euid=0 tty=ssh ruser= rhost=219.150.161.20  user=root',\n",
       " ' logname= uid=0 euid=0 tty=ssh ruser= rhost=219.150.161.20 ',\n",
       " ' logname= uid=0 euid=0 tty=ssh ruser= rhost=219.150.161.20 ',\n",
       " ' logname= uid=0 euid=0 tty=ssh ruser= rhost=219.150.161.20 ',\n",
       " ' logname= uid=0 euid=0 tty=ssh ruser= rhost=219.150.161.20 ',\n",
       " ' logname= uid=0 euid=0 tty=ssh ruser= rhost=219.150.161.20  user=root',\n",
       " ' logname= uid=0 euid=0 tty=ssh ruser= rhost=219.150.161.20  user=root',\n",
       " ' logname= uid=0 euid=0 tty=ssh ruser= rhost=219.150.161.20 ',\n",
       " ' logname= uid=0 euid=0 tty=ssh ruser= rhost=219.150.161.20  user=root',\n",
       " ' logname= uid=0 euid=0 tty=ssh ruser= rhost=219.150.161.20 ',\n",
       " ' logname= uid=0 euid=0 tty=ssh ruser= rhost=219.150.161.20  user=root',\n",
       " ' logname= uid=0 euid=0 tty=ssh ruser= rhost=219.150.161.20 ',\n",
       " ' logname= uid=0 euid=0 tty=ssh ruser= rhost=219.150.161.20 ',\n",
       " ' logname= uid=0 euid=0 tty=ssh ruser= rhost=219.150.161.20 ',\n",
       " ' logname= uid=0 euid=0 tty=ssh ruser= rhost=219.150.161.20 ',\n",
       " ' logname= uid=0 euid=0 tty=ssh ruser= rhost=219.150.161.20  user=root',\n",
       " ' logname= uid=0 euid=0 tty=ssh ruser= rhost=219.150.161.20  user=root',\n",
       " ' logname= uid=0 euid=0 tty=ssh ruser= rhost=219.150.161.20 ',\n",
       " ' logname= uid=0 euid=0 tty=ssh ruser= rhost=219.150.161.20  user=root',\n",
       " ' logname= uid=0 euid=0 tty=ssh ruser= rhost=219.150.161.20  user=root',\n",
       " ' logname= uid=0 euid=0 tty=ssh ruser= rhost=219.150.161.20 ',\n",
       " ' logname= uid=0 euid=0 tty=ssh ruser= rhost=219.150.161.20 ',\n",
       " ' logname= uid=0 euid=0 tty=ssh ruser= rhost=219.150.161.20 ',\n",
       " ' logname= uid=0 euid=0 tty=ssh ruser= rhost=219.150.161.20 ',\n",
       " ' logname= uid=0 euid=0 tty=ssh ruser= rhost=219.150.161.20 ',\n",
       " ' logname= uid=0 euid=0 tty=ssh ruser= rhost=219.150.161.20  user=root',\n",
       " ' logname= uid=0 euid=0 tty=ssh ruser= rhost=219.150.161.20  user=root',\n",
       " ' logname= uid=0 euid=0 tty=ssh ruser= rhost=219.150.161.20 ',\n",
       " ' logname= uid=0 euid=0 tty=ssh ruser= rhost=219.150.161.20  user=root',\n",
       " ' logname= uid=0 euid=0 tty=ssh ruser= rhost=219.150.161.20 ',\n",
       " ' logname= uid=0 euid=0 tty=ssh ruser= rhost=219.150.161.20 ',\n",
       " ' logname= uid=0 euid=0 tty=ssh ruser= rhost=219.150.161.20  user=root',\n",
       " ' logname= uid=0 euid=0 tty=ssh ruser= rhost=219.150.161.20 ',\n",
       " ' logname= uid=0 euid=0 tty=ssh ruser= rhost=219.150.161.20 ',\n",
       " ' logname= uid=0 euid=0 tty=ssh ruser= rhost=219.150.161.20  user=root',\n",
       " ' logname= uid=0 euid=0 tty=ssh ruser= rhost=219.150.161.20 ',\n",
       " ' logname= uid=0 euid=0 tty=ssh ruser= rhost=219.150.161.20  user=root',\n",
       " ' logname= uid=0 euid=0 tty=ssh ruser= rhost=219.150.161.20 ',\n",
       " ' logname= uid=0 euid=0 tty=ssh ruser= rhost=219.150.161.20  user=root',\n",
       " ' logname= uid=0 euid=0 tty=ssh ruser= rhost=219.150.161.20 ',\n",
       " ' logname= uid=0 euid=0 tty=ssh ruser= rhost=219.150.161.20  user=root',\n",
       " ' logname= uid=0 euid=0 tty=ssh ruser= rhost=219.150.161.20 ',\n",
       " ' logname= uid=0 euid=0 tty=ssh ruser= rhost=219.150.161.20 ',\n",
       " ' logname= uid=0 euid=0 tty=ssh ruser= rhost=219.150.161.20 ',\n",
       " ' logname= uid=0 euid=0 tty=ssh ruser= rhost=219.150.161.20 ',\n",
       " ' logname= uid=0 euid=0 tty=ssh ruser= rhost=219.150.161.20  user=root',\n",
       " ' logname= uid=0 euid=0 tty=ssh ruser= rhost=219.150.161.20  user=root',\n",
       " ' logname= uid=0 euid=0 tty=ssh ruser= rhost=219.150.161.20 ',\n",
       " ' logname= uid=0 euid=0 tty=ssh ruser= rhost=219.150.161.20  user=root',\n",
       " ' logname= uid=0 euid=0 tty=ssh ruser= rhost=219.150.161.20 ',\n",
       " ' logname= uid=0 euid=0 tty=ssh ruser= rhost=219.150.161.20  user=root',\n",
       " ' logname= uid=0 euid=0 tty=ssh ruser= rhost=219.150.161.20 ',\n",
       " ' logname= uid=0 euid=0 tty=ssh ruser= rhost=219.150.161.20 ',\n",
       " ' logname= uid=0 euid=0 tty=ssh ruser= rhost=219.150.161.20 ',\n",
       " ' logname= uid=0 euid=0 tty=ssh ruser= rhost=219.150.161.20 ',\n",
       " ' logname= uid=0 euid=0 tty=ssh ruser= rhost=219.150.161.20  user=root',\n",
       " ' logname= uid=0 euid=0 tty=ssh ruser= rhost=219.150.161.20  user=root',\n",
       " ' logname= uid=0 euid=0 tty=ssh ruser= rhost=219.150.161.20 ',\n",
       " ' logname= uid=0 euid=0 tty=ssh ruser= rhost=219.150.161.20  user=root',\n",
       " ' logname= uid=0 euid=0 tty=ssh ruser= rhost=219.150.161.20 ',\n",
       " ' logname= uid=0 euid=0 tty=ssh ruser= rhost=219.150.161.20  user=root',\n",
       " ' logname= uid=0 euid=0 tty=ssh ruser= rhost=219.150.161.20 ',\n",
       " ' logname= uid=0 euid=0 tty=ssh ruser= rhost=219.150.161.20 ',\n",
       " ' logname= uid=0 euid=0 tty=ssh ruser= rhost=219.150.161.20 ',\n",
       " ' logname= uid=0 euid=0 tty=ssh ruser= rhost=219.150.161.20 ',\n",
       " ' logname= uid=0 euid=0 tty=ssh ruser= rhost=219.150.161.20  user=root',\n",
       " ' logname= uid=0 euid=0 tty=ssh ruser= rhost=219.150.161.20  user=root',\n",
       " ' logname= uid=0 euid=0 tty=ssh ruser= rhost=219.150.161.20  user=root',\n",
       " ' logname= uid=0 euid=0 tty=ssh ruser= rhost=219.150.161.20  user=root',\n",
       " ' logname= uid=0 euid=0 tty=ssh ruser= rhost=219.150.161.20 ',\n",
       " ' logname= uid=0 euid=0 tty=ssh ruser= rhost=219.150.161.20  user=root',\n",
       " ' logname= uid=0 euid=0 tty=ssh ruser= rhost=219.150.161.20 ',\n",
       " ' logname= uid=0 euid=0 tty=ssh ruser= rhost=219.150.161.20 ',\n",
       " ' logname= uid=0 euid=0 tty=ssh ruser= rhost=219.150.161.20 ',\n",
       " ' logname= uid=0 euid=0 tty=ssh ruser= rhost=219.150.161.20 ',\n",
       " ' logname= uid=0 euid=0 tty=ssh ruser= rhost=219.150.161.20  user=root',\n",
       " ' logname= uid=0 euid=0 tty=ssh ruser= rhost=219.150.161.20  user=root',\n",
       " ' logname= uid=0 euid=0 tty=ssh ruser= rhost=219.150.161.20  user=root',\n",
       " ' logname= uid=0 euid=0 tty=ssh ruser= rhost=219.150.161.20  user=root',\n",
       " ' logname= uid=0 euid=0 tty=ssh ruser= rhost=219.150.161.20 ',\n",
       " ' logname= uid=0 euid=0 tty=ssh ruser= rhost=219.150.161.20  user=root',\n",
       " ' logname= uid=0 euid=0 tty=ssh ruser= rhost=219.150.161.20 ',\n",
       " ' logname= uid=0 euid=0 tty=ssh ruser= rhost=219.150.161.20 ',\n",
       " ' logname= uid=0 euid=0 tty=ssh ruser= rhost=219.150.161.20 ',\n",
       " ' logname= uid=0 euid=0 tty=ssh ruser= rhost=219.150.161.20 ',\n",
       " ' logname= uid=0 euid=0 tty=ssh ruser= rhost=219.150.161.20  user=root',\n",
       " ' logname= uid=0 euid=0 tty=ssh ruser= rhost=219.150.161.20  user=root',\n",
       " ' logname= uid=0 euid=0 tty=ssh ruser= rhost=219.150.161.20  user=root',\n",
       " ' logname= uid=0 euid=0 tty=ssh ruser= rhost=219.150.161.20  user=root',\n",
       " ' logname= uid=0 euid=0 tty=ssh ruser= rhost=219.150.161.20 ',\n",
       " ' logname= uid=0 euid=0 tty=ssh ruser= rhost=219.150.161.20  user=root',\n",
       " ' logname= uid=0 euid=0 tty=ssh ruser= rhost=219.150.161.20 ',\n",
       " ' logname= uid=0 euid=0 tty=ssh ruser= rhost=219.150.161.20 ',\n",
       " ' logname= uid=0 euid=0 tty=ssh ruser= rhost=219.150.161.20 ',\n",
       " ' logname= uid=0 euid=0 tty=ssh ruser= rhost=219.150.161.20 ',\n",
       " ' logname= uid=0 euid=0 tty=ssh ruser= rhost=219.150.161.20  user=root',\n",
       " ' logname= uid=0 euid=0 tty=ssh ruser= rhost=219.150.161.20  user=root',\n",
       " ' logname= uid=0 euid=0 tty=ssh ruser= rhost=219.150.161.20 ',\n",
       " ' logname= uid=0 euid=0 tty=ssh ruser= rhost=219.150.161.20  user=root',\n",
       " ' logname= uid=0 euid=0 tty=ssh ruser= rhost=219.150.161.20 ',\n",
       " ' logname= uid=0 euid=0 tty=ssh ruser= rhost=219.150.161.20 ',\n",
       " ' logname= uid=0 euid=0 tty=ssh ruser= rhost=219.150.161.20 ',\n",
       " ' logname= uid=0 euid=0 tty=ssh ruser= rhost=219.150.161.20  user=root',\n",
       " ' logname= uid=0 euid=0 tty=ssh ruser= rhost=219.150.161.20 ',\n",
       " ' logname= uid=0 euid=0 tty=ssh ruser= rhost=219.150.161.20 ',\n",
       " ' logname= uid=0 euid=0 tty=ssh ruser= rhost=219.150.161.20  user=root',\n",
       " ' logname= uid=0 euid=0 tty=ssh ruser= rhost=219.150.161.20  user=root',\n",
       " ' logname= uid=0 euid=0 tty=ssh ruser= rhost=219.150.161.20 ',\n",
       " ' logname= uid=0 euid=0 tty=ssh ruser= rhost=219.150.161.20  user=root',\n",
       " ' logname= uid=0 euid=0 tty=ssh ruser= rhost=219.150.161.20 ',\n",
       " ' logname= uid=0 euid=0 tty=ssh ruser= rhost=219.150.161.20 ',\n",
       " ' logname= uid=0 euid=0 tty=ssh ruser= rhost=219.150.161.20 ',\n",
       " ' logname= uid=0 euid=0 tty=ssh ruser= rhost=219.150.161.20 ',\n",
       " ' logname= uid=0 euid=0 tty=ssh ruser= rhost=219.150.161.20 ',\n",
       " ' logname= uid=0 euid=0 tty=ssh ruser= rhost=219.150.161.20  user=root',\n",
       " ' logname= uid=0 euid=0 tty=ssh ruser= rhost=219.150.161.20  user=root',\n",
       " ' logname= uid=0 euid=0 tty=ssh ruser= rhost=219.150.161.20  user=root',\n",
       " ' logname= uid=0 euid=0 tty=ssh ruser= rhost=219.150.161.20 ',\n",
       " ' logname= uid=0 euid=0 tty=ssh ruser= rhost=219.150.161.20  user=root',\n",
       " ' logname= uid=0 euid=0 tty=ssh ruser= rhost=219.150.161.20 ',\n",
       " ' logname= uid=0 euid=0 tty=ssh ruser= rhost=219.150.161.20 ',\n",
       " ' logname= uid=0 euid=0 tty=ssh ruser= rhost=219.150.161.20 ',\n",
       " ' logname= uid=0 euid=0 tty=ssh ruser= rhost=219.150.161.20 ',\n",
       " ' logname= uid=0 euid=0 tty=ssh ruser= rhost=219.150.161.20  user=root',\n",
       " ' logname= uid=0 euid=0 tty=ssh ruser= rhost=219.150.161.20 ',\n",
       " ' logname= uid=0 euid=0 tty=ssh ruser= rhost=219.150.161.20  user=root',\n",
       " ' logname= uid=0 euid=0 tty=ssh ruser= rhost=219.150.161.20  user=root',\n",
       " ' logname= uid=0 euid=0 tty=ssh ruser= rhost=219.150.161.20 ',\n",
       " ' logname= uid=0 euid=0 tty=ssh ruser= rhost=219.150.161.20  user=root',\n",
       " ' logname= uid=0 euid=0 tty=ssh ruser= rhost=219.150.161.20 ',\n",
       " ' logname= uid=0 euid=0 tty=ssh ruser= rhost=219.150.161.20 ',\n",
       " ' logname= uid=0 euid=0 tty=ssh ruser= rhost=219.150.161.20 ',\n",
       " ' logname= uid=0 euid=0 tty=ssh ruser= rhost=219.150.161.20 ',\n",
       " ' logname= uid=0 euid=0 tty=ssh ruser= rhost=219.150.161.20 ',\n",
       " ' logname= uid=0 euid=0 tty=ssh ruser= rhost=219.150.161.20  user=root',\n",
       " ' logname= uid=0 euid=0 tty=ssh ruser= rhost=219.150.161.20  user=root',\n",
       " ' logname= uid=0 euid=0 tty=ssh ruser= rhost=219.150.161.20 ',\n",
       " ' logname= uid=0 euid=0 tty=ssh ruser= rhost=219.150.161.20  user=root',\n",
       " ' logname= uid=0 euid=0 tty=ssh ruser= rhost=219.150.161.20 ',\n",
       " ' logname= uid=0 euid=0 tty=ssh ruser= rhost=219.150.161.20 ',\n",
       " ' logname= uid=0 euid=0 tty=ssh ruser= rhost=219.150.161.20 ',\n",
       " ' logname= uid=0 euid=0 tty=ssh ruser= rhost=219.150.161.20 ',\n",
       " ' logname= uid=0 euid=0 tty=ssh ruser= rhost=219.150.161.20  user=backup',\n",
       " ' logname= uid=0 euid=0 tty=ssh ruser= rhost=219.150.161.20  user=root',\n",
       " ' logname= uid=0 euid=0 tty=ssh ruser= rhost=219.150.161.20  user=root',\n",
       " ' logname= uid=0 euid=0 tty=ssh ruser= rhost=219.150.161.20 ',\n",
       " ' logname= uid=0 euid=0 tty=ssh ruser= rhost=219.150.161.20  user=root',\n",
       " ' logname= uid=0 euid=0 tty=ssh ruser= rhost=219.150.161.20  user=root',\n",
       " ' logname= uid=0 euid=0 tty=ssh ruser= rhost=219.150.161.20  user=root',\n",
       " ' logname= uid=0 euid=0 tty=ssh ruser= rhost=219.150.161.20  user=root',\n",
       " ' logname= uid=0 euid=0 tty=ssh ruser= rhost=219.150.161.20 ',\n",
       " ' logname= uid=0 euid=0 tty=ssh ruser= rhost=219.150.161.20  user=root',\n",
       " ' logname= uid=0 euid=0 tty=ssh ruser= rhost=219.150.161.20 ',\n",
       " ' logname= uid=0 euid=0 tty=ssh ruser= rhost=219.150.161.20 ',\n",
       " ' logname= uid=0 euid=0 tty=ssh ruser= rhost=219.150.161.20 ',\n",
       " ' logname= uid=0 euid=0 tty=ssh ruser= rhost=219.150.161.20 ',\n",
       " ' logname= uid=0 euid=0 tty=ssh ruser= rhost=219.150.161.20  user=root',\n",
       " ' logname= uid=0 euid=0 tty=ssh ruser= rhost=219.150.161.20 ',\n",
       " ' logname= uid=0 euid=0 tty=ssh ruser= rhost=219.150.161.20  user=root',\n",
       " ' logname= uid=0 euid=0 tty=ssh ruser= rhost=219.150.161.20  user=root',\n",
       " ' logname= uid=0 euid=0 tty=ssh ruser= rhost=219.150.161.20 ',\n",
       " ' logname= uid=0 euid=0 tty=ssh ruser= rhost=219.150.161.20 ',\n",
       " ' logname= uid=0 euid=0 tty=ssh ruser= rhost=219.150.161.20  user=root',\n",
       " ' logname= uid=0 euid=0 tty=ssh ruser= rhost=219.150.161.20 ',\n",
       " ' logname= uid=0 euid=0 tty=ssh ruser= rhost=219.150.161.20 ',\n",
       " ' logname= uid=0 euid=0 tty=ssh ruser= rhost=219.150.161.20  user=root',\n",
       " ' logname= uid=0 euid=0 tty=ssh ruser= rhost=219.150.161.20 ',\n",
       " ' logname= uid=0 euid=0 tty=ssh ruser= rhost=219.150.161.20 ',\n",
       " ' logname= uid=0 euid=0 tty=ssh ruser= rhost=219.150.161.20  user=root',\n",
       " ' logname= uid=0 euid=0 tty=ssh ruser= rhost=219.150.161.20  user=root',\n",
       " ' logname= uid=0 euid=0 tty=ssh ruser= rhost=219.150.161.20 ',\n",
       " ' logname= uid=0 euid=0 tty=ssh ruser= rhost=219.150.161.20 ',\n",
       " ' logname= uid=0 euid=0 tty=ssh ruser= rhost=219.150.161.20  user=root',\n",
       " ' logname= uid=0 euid=0 tty=ssh ruser= rhost=219.150.161.20 ',\n",
       " ' logname= uid=0 euid=0 tty=ssh ruser= rhost=219.150.161.20 ',\n",
       " ' logname= uid=0 euid=0 tty=ssh ruser= rhost=219.150.161.20 ',\n",
       " ' logname= uid=0 euid=0 tty=ssh ruser= rhost=219.150.161.20  user=root',\n",
       " ' logname= uid=0 euid=0 tty=ssh ruser= rhost=219.150.161.20 ',\n",
       " ' logname= uid=0 euid=0 tty=ssh ruser= rhost=219.150.161.20  user=root',\n",
       " ' logname= uid=0 euid=0 tty=ssh ruser= rhost=219.150.161.20  user=root',\n",
       " ' logname= uid=0 euid=0 tty=ssh ruser= rhost=219.150.161.20 ',\n",
       " ' logname= uid=0 euid=0 tty=ssh ruser= rhost=219.150.161.20 ',\n",
       " ' logname= uid=0 euid=0 tty=ssh ruser= rhost=219.150.161.20  user=root',\n",
       " ' logname= uid=0 euid=0 tty=ssh ruser= rhost=219.150.161.20 ',\n",
       " ' logname= uid=0 euid=0 tty=ssh ruser= rhost=219.150.161.20 ',\n",
       " ' logname= uid=0 euid=0 tty=ssh ruser= rhost=219.150.161.20 ',\n",
       " ' logname= uid=0 euid=0 tty=ssh ruser= rhost=219.150.161.20  user=root',\n",
       " ' logname= uid=0 euid=0 tty=ssh ruser= rhost=219.150.161.20  user=root',\n",
       " ' logname= uid=0 euid=0 tty=ssh ruser= rhost=219.150.161.20  user=root',\n",
       " ' logname= uid=0 euid=0 tty=ssh ruser= rhost=219.150.161.20  user=root',\n",
       " ' logname= uid=0 euid=0 tty=ssh ruser= rhost=219.150.161.20  user=root',\n",
       " ' logname= uid=0 euid=0 tty=ssh ruser= rhost=219.150.161.20 ',\n",
       " ' logname= uid=0 euid=0 tty=ssh ruser= rhost=219.150.161.20 ',\n",
       " ' logname= uid=0 euid=0 tty=ssh ruser= rhost=219.150.161.20 ',\n",
       " ' logname= uid=0 euid=0 tty=ssh ruser= rhost=219.150.161.20 ',\n",
       " ' logname= uid=0 euid=0 tty=ssh ruser= rhost=219.150.161.20 ',\n",
       " ' logname= uid=0 euid=0 tty=ssh ruser= rhost=219.150.161.20  user=root',\n",
       " ' logname= uid=0 euid=0 tty=ssh ruser= rhost=219.150.161.20 ',\n",
       " ' logname= uid=0 euid=0 tty=ssh ruser= rhost=219.150.161.20  user=root',\n",
       " ' logname= uid=0 euid=0 tty=ssh ruser= rhost=219.150.161.20  user=root',\n",
       " ' logname= uid=0 euid=0 tty=ssh ruser= rhost=219.150.161.20  user=root',\n",
       " ' logname= uid=0 euid=0 tty=ssh ruser= rhost=219.150.161.20 ',\n",
       " ' logname= uid=0 euid=0 tty=ssh ruser= rhost=219.150.161.20 ',\n",
       " ' logname= uid=0 euid=0 tty=ssh ruser= rhost=219.150.161.20 ',\n",
       " ' logname= uid=0 euid=0 tty=ssh ruser= rhost=219.150.161.20 ',\n",
       " ' logname= uid=0 euid=0 tty=ssh ruser= rhost=219.150.161.20  user=root',\n",
       " ' logname= uid=0 euid=0 tty=ssh ruser= rhost=219.150.161.20  user=root',\n",
       " ' logname= uid=0 euid=0 tty=ssh ruser= rhost=219.150.161.20  user=root',\n",
       " ' logname= uid=0 euid=0 tty=ssh ruser= rhost=219.150.161.20 ',\n",
       " ' logname= uid=0 euid=0 tty=ssh ruser= rhost=219.150.161.20  user=root',\n",
       " ' logname= uid=0 euid=0 tty=ssh ruser= rhost=219.150.161.20  user=root',\n",
       " ' logname= uid=0 euid=0 tty=ssh ruser= rhost=219.150.161.20 ',\n",
       " ' logname= uid=0 euid=0 tty=ssh ruser= rhost=219.150.161.20 ',\n",
       " ' logname= uid=0 euid=0 tty=ssh ruser= rhost=219.150.161.20 ',\n",
       " ' logname= uid=0 euid=0 tty=ssh ruser= rhost=219.150.161.20 ',\n",
       " ' logname= uid=0 euid=0 tty=ssh ruser= rhost=219.150.161.20  user=root',\n",
       " ' logname= uid=0 euid=0 tty=ssh ruser= rhost=219.150.161.20 ',\n",
       " ' logname= uid=0 euid=0 tty=ssh ruser= rhost=219.150.161.20  user=root',\n",
       " ' logname= uid=0 euid=0 tty=ssh ruser= rhost=219.150.161.20  user=root',\n",
       " ' logname= uid=0 euid=0 tty=ssh ruser= rhost=219.150.161.20 ',\n",
       " ' logname= uid=0 euid=0 tty=ssh ruser= rhost=219.150.161.20 ',\n",
       " ' logname= uid=0 euid=0 tty=ssh ruser= rhost=219.150.161.20  user=root',\n",
       " ' logname= uid=0 euid=0 tty=ssh ruser= rhost=219.150.161.20 ',\n",
       " ' logname= uid=0 euid=0 tty=ssh ruser= rhost=219.150.161.20 ',\n",
       " ...]"
      ]
     },
     "execution_count": 247,
     "metadata": {},
     "output_type": "execute_result"
    }
   ],
   "source": [
    "failed_login.take(10)\n",
    "piru=failed_login.map(lambda x: x.split(\";\")[1])\n",
    "piru.collect()"
   ]
  },
  {
   "cell_type": "code",
   "execution_count": 325,
   "metadata": {},
   "outputs": [],
   "source": [
    "dale=piru.map(lambda x: x.split(\" \"))"
   ]
  },
  {
   "cell_type": "code",
   "execution_count": 326,
   "metadata": {},
   "outputs": [],
   "source": [
    "par=dale.filter(lambda x: len(x)==9)\n",
    "che=par.collect()"
   ]
  },
  {
   "cell_type": "code",
   "execution_count": 327,
   "metadata": {},
   "outputs": [
    {
     "data": {
      "text/plain": [
       "5873"
      ]
     },
     "execution_count": 327,
     "metadata": {},
     "output_type": "execute_result"
    }
   ],
   "source": [
    "lichito=par.map(lambda x: x[8],1)\n",
    "lichito.count()"
   ]
  },
  {
   "cell_type": "code",
   "execution_count": 328,
   "metadata": {},
   "outputs": [
    {
     "data": {
      "text/plain": [
       "['user=root', 'user=root', 'user=user2', 'user=user2', 'user=user2']"
      ]
     },
     "execution_count": 328,
     "metadata": {},
     "output_type": "execute_result"
    }
   ],
   "source": [
    "lichito.take(5)"
   ]
  },
  {
   "cell_type": "code",
   "execution_count": 342,
   "metadata": {},
   "outputs": [
    {
     "data": {
      "text/plain": [
       "5873"
      ]
     },
     "execution_count": 342,
     "metadata": {},
     "output_type": "execute_result"
    }
   ],
   "source": [
    "final=lichito.map(lambda x: x.split(\"=\")[1])\n",
    "final.take(3)\n",
    "final.count()"
   ]
  },
  {
   "cell_type": "code",
   "execution_count": 343,
   "metadata": {},
   "outputs": [
    {
     "data": {
      "text/plain": [
       "['root', 'root', 'user2']"
      ]
     },
     "execution_count": 343,
     "metadata": {},
     "output_type": "execute_result"
    }
   ],
   "source": [
    "final.take(3)"
   ]
  },
  {
   "cell_type": "code",
   "execution_count": 344,
   "metadata": {},
   "outputs": [
    {
     "name": "stdout",
     "output_type": "stream",
     "text": [
      "[('root', 5479), ('user2', 3), ('user1', 21), ('games', 35), ('proxy', 12), ('news', 22), ('daemon', 11), ('gnats', 8), ('nobody', 25), ('sync', 12), ('uucp', 11), ('www-data', 16), ('dhg', 1), ('syslog', 1), ('libuuid', 1), ('ntp', 4), ('user3', 1), ('mysql', 44), ('backup', 29), ('mail', 27), ('bin', 11), ('irc', 15), ('list', 11), ('lp', 23), ('man', 14), ('sshd', 23), ('sys', 9), ('dhcp', 2), ('klog', 1), ('Debian-exim', 1)]\n"
     ]
    }
   ],
   "source": [
    "timo=(final.map(lambda x: (x, 1)).reduceByKey(lambda x, y: x + y).collect())\n",
    "print(timo)"
   ]
  },
  {
   "cell_type": "markdown",
   "metadata": {},
   "source": [
    "### Cuántos intentos de inicio de sesión son usuarios no válidos?"
   ]
  },
  {
   "cell_type": "code",
   "execution_count": 25,
   "metadata": {},
   "outputs": [
    {
     "data": {
      "text/plain": [
       "14482"
      ]
     },
     "execution_count": 25,
     "metadata": {},
     "output_type": "execute_result"
    }
   ],
   "source": [
    "user_attempt=rdd.filter(lambda line: \"invalid user \" in line)\n",
    "user_attempt.count()"
   ]
  },
  {
   "cell_type": "code",
   "execution_count": 141,
   "metadata": {},
   "outputs": [
    {
     "data": {
      "text/plain": [
       "['Apr 19 04:36:51 app-1 sshd[6990]: Failed password for invalid user tomcat from 203.81.226.86 port 59207 ssh2',\n",
       " 'Apr 19 05:19:10 app-1 sshd[7169]: Failed password for invalid user admin from 58.17.30.49 port 41483 ssh2',\n",
       " 'Apr 19 05:22:12 app-1 sshd[7259]: Failed password for invalid user tina from 58.17.30.49 port 55606 ssh2',\n",
       " 'Apr 19 05:22:16 app-1 sshd[7261]: Failed password for invalid user tom from 58.17.30.49 port 55864 ssh2',\n",
       " 'Apr 19 05:22:21 app-1 sshd[7263]: Failed password for invalid user tom from 58.17.30.49 port 56103 ssh2']"
      ]
     },
     "execution_count": 141,
     "metadata": {},
     "output_type": "execute_result"
    }
   ],
   "source": [
    "user_attempt.take(5)"
   ]
  },
  {
   "cell_type": "markdown",
   "metadata": {},
   "source": [
    "### Nuevos usuarios creados"
   ]
  },
  {
   "cell_type": "code",
   "execution_count": 131,
   "metadata": {},
   "outputs": [
    {
     "data": {
      "text/plain": [
       "11"
      ]
     },
     "execution_count": 131,
     "metadata": {},
     "output_type": "execute_result"
    }
   ],
   "source": [
    "new_users=rdd.filter(lambda line: \"new user\" in line)\n",
    "new_users.count()"
   ]
  },
  {
   "cell_type": "code",
   "execution_count": 135,
   "metadata": {},
   "outputs": [
    {
     "data": {
      "text/plain": [
       "['Mar 16 08:12:13 app-1 useradd[4692]: new user: name=user4, UID=1001, GID=1001, home=/home/user4, shell=/bin/bash',\n",
       " 'Mar 16 08:12:38 app-1 useradd[4703]: new user: name=user1, UID=1001, GID=1001, home=/home/user1, shell=/bin/bash',\n",
       " 'Mar 16 08:12:55 app-1 useradd[4711]: new user: name=user2, UID=1002, GID=1002, home=/home/user2, shell=/bin/bash',\n",
       " 'Mar 16 08:25:22 app-1 useradd[4845]: new user: name=sshd, UID=104, GID=65534, home=/var/run/sshd, shell=/usr/sbin/nologin',\n",
       " 'Mar 18 10:15:42 app-1 useradd[5393]: new user: name=Debian-exim, UID=105, GID=114, home=/var/spool/exim4, shell=/bin/false']"
      ]
     },
     "execution_count": 135,
     "metadata": {},
     "output_type": "execute_result"
    }
   ],
   "source": [
    "new_users.take(5)"
   ]
  },
  {
   "cell_type": "code",
   "execution_count": 138,
   "metadata": {},
   "outputs": [
    {
     "data": {
      "text/plain": [
       "['user4,', 'user1,', 'user2,', 'sshd,', 'Debian-exim,']"
      ]
     },
     "execution_count": 138,
     "metadata": {},
     "output_type": "execute_result"
    }
   ],
   "source": [
    "list_new_users=new_users.map(lambda x: x.split(\" \")[7]).map(lambda x:x.split(\"=\")[1])\n",
    "list_new_users.take(5)"
   ]
  },
  {
   "cell_type": "code",
   "execution_count": 140,
   "metadata": {},
   "outputs": [
    {
     "data": {
      "text/plain": [
       "['user4,',\n",
       " 'user1,',\n",
       " 'user2,',\n",
       " 'sshd,',\n",
       " 'Debian-exim,',\n",
       " 'mysql,',\n",
       " 'packet,',\n",
       " 'dhg,',\n",
       " 'messagebus,',\n",
       " 'fido,',\n",
       " 'wind3str0y,']"
      ]
     },
     "execution_count": 140,
     "metadata": {},
     "output_type": "execute_result"
    }
   ],
   "source": [
    "list_new_users.collect()"
   ]
  },
  {
   "cell_type": "markdown",
   "metadata": {},
   "source": [
    "### Qué direcciones IP tienen el número de conexiones más alto para los logins exitosos?"
   ]
  },
  {
   "cell_type": "code",
   "execution_count": 109,
   "metadata": {},
   "outputs": [
    {
     "data": {
      "text/plain": [
       "['Mar 16 08:26:06 app-1 sshd[4894]: Accepted password for user3 from 192.168.126.1 port 61474 ssh2',\n",
       " 'Mar 16 10:14:02 app-1 sshd[5142]: Accepted password for user3 from 192.168.126.1 port 62897 ssh2',\n",
       " 'Mar 16 17:12:24 app-1 sshd[5513]: Accepted password for user3 from 192.168.126.1 port 63555 ssh2',\n",
       " 'Mar 18 09:42:22 app-1 sshd[4693]: Accepted password for user3 from 10.0.1.2 port 64721 ssh2',\n",
       " 'Mar 18 10:00:10 app-1 sshd[4764]: Accepted password for user1 from 76.191.195.140 port 35226 ssh2']"
      ]
     },
     "execution_count": 109,
     "metadata": {},
     "output_type": "execute_result"
    }
   ],
   "source": [
    "ip_number=rdd.filter(lambda line: \"Accepted password\" in line)\n",
    "ip_number.take(5)\n"
   ]
  },
  {
   "cell_type": "code",
   "execution_count": 110,
   "metadata": {},
   "outputs": [
    {
     "data": {
      "text/plain": [
       "118"
      ]
     },
     "execution_count": 110,
     "metadata": {},
     "output_type": "execute_result"
    }
   ],
   "source": [
    "ip_number_ok=ip_number.map(lambda x: (x.split(\" \")[10]),1)\n",
    "ip_number_ok.count()"
   ]
  },
  {
   "cell_type": "code",
   "execution_count": 310,
   "metadata": {},
   "outputs": [
    {
     "data": {
      "text/plain": [
       "['192.168.126.1', '192.168.126.1', '192.168.126.1', '10.0.1.2']"
      ]
     },
     "execution_count": 310,
     "metadata": {},
     "output_type": "execute_result"
    }
   ],
   "source": [
    "ip_number_ok.take(4)"
   ]
  },
  {
   "cell_type": "code",
   "execution_count": 114,
   "metadata": {},
   "outputs": [
    {
     "name": "stdout",
     "output_type": "stream",
     "text": [
      "[('192.168.126.1', 3), ('10.0.1.2', 13), ('166.129.196.88', 1), ('65.195.182.120', 2), ('222.66.204.246', 1), ('201.229.176.217', 1), ('190.167.70.87', 1), ('190.166.87.164', 23), ('121.11.66.70', 2), ('151.81.205.100', 1), ('151.81.204.141', 1), ('65.88.2.5', 6), ('94.52.185.9', 2), ('188.131.23.37', 4), ('208.80.69.70', 1), ('76.191.195.140', 19), ('71.132.129.212', 5), ('208.80.69.74', 7), ('from', 5), ('10.0.1.4', 4), ('219.150.161.20', 4), ('208.80.69.69', 2), ('193.1.186.197', 1), ('151.82.3.201', 1), ('222.169.224.197', 1), ('122.226.202.12', 2), ('61.168.227.12', 1), ('188.131.22.69', 1), ('190.167.74.184', 3)]\n"
     ]
    }
   ],
   "source": [
    "ranking = (ip_number_ok.map(lambda x: (x, 1)).reduceByKey(lambda x, y: x + y).collect())\n",
    "print(ranking)"
   ]
  },
  {
   "cell_type": "code",
   "execution_count": 115,
   "metadata": {},
   "outputs": [
    {
     "name": "stdout",
     "output_type": "stream",
     "text": [
      "There are 29  IPs with Succesful logs\n"
     ]
    }
   ],
   "source": [
    "print (\"There are\" ,len(ranking),\" IPs with Succesful logs\")"
   ]
  },
  {
   "cell_type": "markdown",
   "metadata": {},
   "source": [
    "### Direcciones IP con inicios de sesión fallidos"
   ]
  },
  {
   "cell_type": "code",
   "execution_count": 116,
   "metadata": {},
   "outputs": [
    {
     "data": {
      "text/plain": [
       "['Mar 18 11:38:05 app-1 sshd[10156]: Failed password for user2 from 71.132.129.212 port 34624 ssh2',\n",
       " 'Mar 18 11:38:10 app-1 sshd[10156]: Failed password for user2 from 71.132.129.212 port 34624 ssh2',\n",
       " 'Mar 18 11:38:43 app-1 sshd[10156]: Failed password for user2 from 71.132.129.212 port 34624 ssh2',\n",
       " 'Mar 18 11:38:59 app-1 sshd[10158]: Failed password for user2 from 71.132.129.212 port 34333 ssh2',\n",
       " 'Mar 29 13:23:46 app-1 sshd[21492]: Failed password for root from 10.0.1.2 port 51771 ssh2']"
      ]
     },
     "execution_count": 116,
     "metadata": {},
     "output_type": "execute_result"
    }
   ],
   "source": [
    "ip_number_fail=rdd.filter(lambda line: \"Failed password\" in line)\n",
    "ip_number_fail.take(5)"
   ]
  },
  {
   "cell_type": "code",
   "execution_count": 117,
   "metadata": {},
   "outputs": [
    {
     "data": {
      "text/plain": [
       "20338"
      ]
     },
     "execution_count": 117,
     "metadata": {},
     "output_type": "execute_result"
    }
   ],
   "source": [
    "ip_number_fail.count()"
   ]
  },
  {
   "cell_type": "code",
   "execution_count": 118,
   "metadata": {},
   "outputs": [],
   "source": [
    "ip_number_fail=ip_number.map(lambda x: (x.split(\" \")[10]),1)"
   ]
  },
  {
   "cell_type": "code",
   "execution_count": 119,
   "metadata": {},
   "outputs": [
    {
     "name": "stdout",
     "output_type": "stream",
     "text": [
      "[('192.168.126.1', 3), ('10.0.1.2', 13), ('166.129.196.88', 1), ('65.195.182.120', 2), ('222.66.204.246', 1), ('201.229.176.217', 1), ('190.167.70.87', 1), ('190.166.87.164', 23), ('121.11.66.70', 2), ('151.81.205.100', 1), ('151.81.204.141', 1), ('65.88.2.5', 6), ('94.52.185.9', 2), ('188.131.23.37', 4), ('208.80.69.70', 1), ('76.191.195.140', 19), ('71.132.129.212', 5), ('208.80.69.74', 7), ('from', 5), ('10.0.1.4', 4), ('219.150.161.20', 4), ('208.80.69.69', 2), ('193.1.186.197', 1), ('151.82.3.201', 1), ('222.169.224.197', 1), ('122.226.202.12', 2), ('61.168.227.12', 1), ('188.131.22.69', 1), ('190.167.74.184', 3)]\n"
     ]
    }
   ],
   "source": [
    "ranking_fail = (ip_number_fail.map(lambda x: (x, 1)).reduceByKey(lambda x, y: x + y).collect())\n",
    "print(ranking_fail)"
   ]
  },
  {
   "cell_type": "code",
   "execution_count": 121,
   "metadata": {},
   "outputs": [
    {
     "name": "stdout",
     "output_type": "stream",
     "text": [
      "There are 29  IPs with failed login\n"
     ]
    }
   ],
   "source": [
    "print (\"There are\" ,len(ranking_fail),\" IPs with failed login\")"
   ]
  },
  {
   "cell_type": "markdown",
   "metadata": {},
   "source": [
    "### Direcciones IP que intentaron iniciar sesión para un usuario no válido"
   ]
  },
  {
   "cell_type": "code",
   "execution_count": 123,
   "metadata": {},
   "outputs": [
    {
     "data": {
      "text/plain": [
       "['Apr 19 04:36:51 app-1 sshd[6990]: Failed password for invalid user tomcat from 203.81.226.86 port 59207 ssh2',\n",
       " 'Apr 19 05:19:10 app-1 sshd[7169]: Failed password for invalid user admin from 58.17.30.49 port 41483 ssh2',\n",
       " 'Apr 19 05:22:12 app-1 sshd[7259]: Failed password for invalid user tina from 58.17.30.49 port 55606 ssh2',\n",
       " 'Apr 19 05:22:16 app-1 sshd[7261]: Failed password for invalid user tom from 58.17.30.49 port 55864 ssh2',\n",
       " 'Apr 19 05:22:21 app-1 sshd[7263]: Failed password for invalid user tom from 58.17.30.49 port 56103 ssh2']"
      ]
     },
     "execution_count": 123,
     "metadata": {},
     "output_type": "execute_result"
    }
   ],
   "source": [
    "wrong_unser=rdd.filter(lambda line: \"invalid user\" in line)\n",
    "wrong_unser.take(5)"
   ]
  },
  {
   "cell_type": "code",
   "execution_count": 124,
   "metadata": {},
   "outputs": [
    {
     "data": {
      "text/plain": [
       "14482"
      ]
     },
     "execution_count": 124,
     "metadata": {},
     "output_type": "execute_result"
    }
   ],
   "source": [
    "wrong_unser.count()"
   ]
  },
  {
   "cell_type": "code",
   "execution_count": 127,
   "metadata": {},
   "outputs": [
    {
     "data": {
      "text/plain": [
       "['203.81.226.86', '58.17.30.49', '58.17.30.49', '58.17.30.49', '58.17.30.49']"
      ]
     },
     "execution_count": 127,
     "metadata": {},
     "output_type": "execute_result"
    }
   ],
   "source": [
    "ip_wrong_user=wrong_unser.map(lambda x: (x.split(\" \")[12]),1)\n",
    "ip_wrong_user.take(5)"
   ]
  },
  {
   "cell_type": "code",
   "execution_count": 128,
   "metadata": {},
   "outputs": [
    {
     "name": "stdout",
     "output_type": "stream",
     "text": [
      "[('203.81.226.86', 1), ('222.66.204.246', 1063), ('24.192.113.91', 135), ('125.235.4.130', 85), ('121.11.66.70', 6), ('59.46.39.148', 9), ('190.166.87.164', 5), ('114.80.166.219', 23), ('201.64.234.2', 48), ('83.216.63.124', 2), ('24.94.90.96', 3), ('124.207.117.9', 522), ('173.9.147.165', 96), ('211.154.254.248', 345), ('8.12.45.242', 2842), ('116.6.19.70', 60), ('210.68.70.170', 135), ('58.17.30.49', 17), ('219.150.161.20', 7574), ('220.170.79.247', 2), ('222.169.224.197', 457), ('217.15.55.133', 382), ('122.226.202.12', 185), ('218.56.61.114', 6), ('124.51.108.68', 154), ('61.168.227.12', 20), ('122.165.9.200', 5), ('65.208.122.48', 300)]\n"
     ]
    }
   ],
   "source": [
    "ranking_ip_wrong_user = (ip_wrong_user.map(lambda x: (x, 1)).reduceByKey(lambda x, y: x + y).collect())\n",
    "print(ranking_ip_wrong_user)"
   ]
  },
  {
   "cell_type": "code",
   "execution_count": 129,
   "metadata": {},
   "outputs": [
    {
     "name": "stdout",
     "output_type": "stream",
     "text": [
      "There are 28  IPs with wrong users\n"
     ]
    }
   ],
   "source": [
    "print (\"There are\" ,len(ranking_ip_wrong_user),\" IPs with wrong users\")"
   ]
  },
  {
   "cell_type": "markdown",
   "metadata": {},
   "source": [
    "### Ubicación de las direcciones IP que intentaron iniciar sesión con un usuario no válido"
   ]
  },
  {
   "cell_type": "code",
   "execution_count": null,
   "metadata": {},
   "outputs": [],
   "source": []
  }
 ],
 "metadata": {
  "kernelspec": {
   "display_name": "Python 3",
   "language": "python",
   "name": "python3"
  },
  "language_info": {
   "codemirror_mode": {
    "name": "ipython",
    "version": 3
   },
   "file_extension": ".py",
   "mimetype": "text/x-python",
   "name": "python",
   "nbconvert_exporter": "python",
   "pygments_lexer": "ipython3",
   "version": "3.7.3"
  }
 },
 "nbformat": 4,
 "nbformat_minor": 1
}
